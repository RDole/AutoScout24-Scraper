{
 "cells": [
  {
   "cell_type": "markdown",
   "metadata": {},
   "source": [
    "# Scraping of features and values in the final link"
   ]
  },
  {
   "cell_type": "code",
   "execution_count": 60,
   "metadata": {},
   "outputs": [],
   "source": [
    "from random import sample \n",
    "import sqlite3 as sql\n",
    "import pandas as pd\n",
    "\n",
    "\n",
    "from bs4 import BeautifulSoup\n",
    "import math\n",
    "import tqdm\n",
    "import json\n",
    "import pandas as pd\n",
    "import datetime\n",
    "import time\n",
    "\n",
    "import requests\n",
    "from bs4 import BeautifulSoup\n",
    "import pandas as pd\n",
    "import time\n",
    "from IPython.core.debugger import Tracer\n",
    "import time\n",
    "from random import sample "
   ]
  },
  {
   "cell_type": "code",
   "execution_count": 61,
   "metadata": {},
   "outputs": [],
   "source": [
    "def getSoup(link):\n",
    "    r = requests.get(link)\n",
    "    r.encoding = 'UTF-8'\n",
    "    return BeautifulSoup(r.text,'lxml')"
   ]
  },
  {
   "cell_type": "code",
   "execution_count": 62,
   "metadata": {},
   "outputs": [],
   "source": [
    "database = 'Austriandatabase.db'\n",
    "connection = sql.connect(database)"
   ]
  },
  {
   "cell_type": "code",
   "execution_count": 63,
   "metadata": {
    "scrolled": true
   },
   "outputs": [
    {
     "data": {
      "text/html": [
       "<div>\n",
       "<style scoped>\n",
       "    .dataframe tbody tr th:only-of-type {\n",
       "        vertical-align: middle;\n",
       "    }\n",
       "\n",
       "    .dataframe tbody tr th {\n",
       "        vertical-align: top;\n",
       "    }\n",
       "\n",
       "    .dataframe thead th {\n",
       "        text-align: right;\n",
       "    }\n",
       "</style>\n",
       "<table border=\"1\" class=\"dataframe\">\n",
       "  <thead>\n",
       "    <tr style=\"text-align: right;\">\n",
       "      <th></th>\n",
       "      <th>index</th>\n",
       "      <th>links</th>\n",
       "    </tr>\n",
       "  </thead>\n",
       "  <tbody>\n",
       "    <tr>\n",
       "      <td>0</td>\n",
       "      <td>0</td>\n",
       "      <td>https://www.autoscout24.com//offers/fiat-cinqu...</td>\n",
       "    </tr>\n",
       "    <tr>\n",
       "      <td>1</td>\n",
       "      <td>1</td>\n",
       "      <td>https://www.autoscout24.com//offers/kia-stonic...</td>\n",
       "    </tr>\n",
       "    <tr>\n",
       "      <td>2</td>\n",
       "      <td>2</td>\n",
       "      <td>https://www.autoscout24.com//offers/volkswagen...</td>\n",
       "    </tr>\n",
       "    <tr>\n",
       "      <td>3</td>\n",
       "      <td>3</td>\n",
       "      <td>https://www.autoscout24.com//offers/mazda-323-...</td>\n",
       "    </tr>\n",
       "    <tr>\n",
       "      <td>4</td>\n",
       "      <td>0</td>\n",
       "      <td>https://www.autoscout24.com//offers/peugeot-10...</td>\n",
       "    </tr>\n",
       "    <tr>\n",
       "      <td>...</td>\n",
       "      <td>...</td>\n",
       "      <td>...</td>\n",
       "    </tr>\n",
       "    <tr>\n",
       "      <td>119764</td>\n",
       "      <td>6</td>\n",
       "      <td>https://www.autoscout24.com//offers/mercedes-b...</td>\n",
       "    </tr>\n",
       "    <tr>\n",
       "      <td>119765</td>\n",
       "      <td>7</td>\n",
       "      <td>https://www.autoscout24.com//offers/alfa-romeo...</td>\n",
       "    </tr>\n",
       "    <tr>\n",
       "      <td>119766</td>\n",
       "      <td>0</td>\n",
       "      <td>https://www.autoscout24.com//offers/mercedes-b...</td>\n",
       "    </tr>\n",
       "    <tr>\n",
       "      <td>119767</td>\n",
       "      <td>1</td>\n",
       "      <td>https://www.autoscout24.com//offers/alfa-romeo...</td>\n",
       "    </tr>\n",
       "    <tr>\n",
       "      <td>119768</td>\n",
       "      <td>2</td>\n",
       "      <td>https://www.autoscout24.com//offers/toyota-hil...</td>\n",
       "    </tr>\n",
       "  </tbody>\n",
       "</table>\n",
       "<p>119769 rows × 2 columns</p>\n",
       "</div>"
      ],
      "text/plain": [
       "        index                                              links\n",
       "0           0  https://www.autoscout24.com//offers/fiat-cinqu...\n",
       "1           1  https://www.autoscout24.com//offers/kia-stonic...\n",
       "2           2  https://www.autoscout24.com//offers/volkswagen...\n",
       "3           3  https://www.autoscout24.com//offers/mazda-323-...\n",
       "4           0  https://www.autoscout24.com//offers/peugeot-10...\n",
       "...       ...                                                ...\n",
       "119764      6  https://www.autoscout24.com//offers/mercedes-b...\n",
       "119765      7  https://www.autoscout24.com//offers/alfa-romeo...\n",
       "119766      0  https://www.autoscout24.com//offers/mercedes-b...\n",
       "119767      1  https://www.autoscout24.com//offers/alfa-romeo...\n",
       "119768      2  https://www.autoscout24.com//offers/toyota-hil...\n",
       "\n",
       "[119769 rows x 2 columns]"
      ]
     },
     "execution_count": 63,
     "metadata": {},
     "output_type": "execute_result"
    }
   ],
   "source": [
    "df = pd.read_sql_query('''SELECT * from Austrianautolinksupto100k''', connection)\n",
    "df"
   ]
  },
  {
   "cell_type": "code",
   "execution_count": 64,
   "metadata": {},
   "outputs": [],
   "source": [
    "df= df['links'].values.tolist()"
   ]
  },
  {
   "cell_type": "markdown",
   "metadata": {},
   "source": [
    "## Definitions of scrapped values"
   ]
  },
  {
   "cell_type": "code",
   "execution_count": 65,
   "metadata": {},
   "outputs": [],
   "source": [
    "def getAllValues(link):\n",
    "                soup = getSoup(link)\n",
    "                qs= soup.findAll('dd')\n",
    "                return [q.text[1:-1] for q in qs]\n",
    "\n",
    "def getAllFeatures(link):\n",
    "                soup = getSoup(link)\n",
    "                zs = soup.findAll('dt')\n",
    "                return [z.text for z in zs]\n",
    "\n",
    "\n",
    "\n",
    "def getTitle(link):\n",
    "                soup = getSoup(link)\n",
    "                return soup.find('h2').text\n",
    "\n",
    "\n",
    "\n",
    "def getPrice(link):\n",
    "                soup = getSoup(link)\n",
    "                return soup.find('div', {\"class\":\"cldt-price\"}).find('h2').text[1:-1]\n",
    "\n",
    "\n",
    "\n",
    "def getPrimaryspecs(link):\n",
    "                soup = getSoup(link)\n",
    "                a = soup.find('div', {\"class\":\"cldt-stage-basic-data\"}).findAll('div')[0].find('span').text\n",
    "                b = soup.find('div', {\"class\":\"cldt-stage-basic-data\"}).findAll('div')[1].find('span').text\n",
    "                c = soup.find('div', {\"class\":\"cldt-stage-basic-data\"}).findAll('div')[2].find('span').text\n",
    "                d = soup.find('div', {\"class\":\"cldt-stage-basic-data\"}).findAll('div')[3].find('span').text\n",
    "\n",
    "\n",
    "                return a,b,c,d \n",
    "\n",
    "        \n",
    "def getPrimaryspecs2(link):\n",
    "                soup = getSoup(link)\n",
    "                extract = soup.find('div', {\"class\":\"cldt-stage-basic-data\"}).findAll('div')[3]\n",
    "                xs = extract.findAll('span')\n",
    "                return [x.text for x in xs]\n",
    "            "
   ]
  },
  {
   "cell_type": "markdown",
   "metadata": {},
   "source": [
    "Random Sampling"
   ]
  },
  {
   "cell_type": "code",
   "execution_count": 66,
   "metadata": {},
   "outputs": [],
   "source": [
    "df=sample(df,100)"
   ]
  },
  {
   "cell_type": "code",
   "execution_count": 67,
   "metadata": {},
   "outputs": [
    {
     "data": {
      "text/plain": [
       "['https://www.autoscout24.com//offers/bmw-x5-3-0d-oesterreich-paket-aut-xenon-navi-ahk-diesel-grey-97bff86a-d3a8-4d33-9054-8007b98d735f',\n",
       " 'https://www.autoscout24.com//offers/mercedes-benz-viano-trend-lang-2-0-cdi-diesel-grey-7fa6b3d9-d784-4f29-a745-4c6883c81f8b',\n",
       " 'https://www.autoscout24.com//offers/fiat-doblo-arrivo-kombi-maxi-sx-1-6-105-ps-diesel-grey-0ca55a92-8dbc-4711-b8d0-512cae49914d',\n",
       " 'https://www.autoscout24.com//offers/bmw-520-d-xdrive-diesel-blue-c74ba526-99af-4d1c-aee8-de2e16f1ba65',\n",
       " 'https://www.autoscout24.com//offers/nissan-nv400-l2h2-2-3dci-125-3-5t-comfort-mwst-erstbesitz-blue-diesel-white-6e0f17ad-2911-4a00-8d3c-017f703cd24a',\n",
       " 'https://www.autoscout24.com//offers/hyundai-i20-1-25-level-2-plus-gasoline-blue-c767835d-903c-4945-9f2a-e514dfbffd12',\n",
       " 'https://www.autoscout24.com//offers/ford-kuga-ford-2-0-titanium-4x4-tdci-dpf-diesel-white-389faec0-96a1-4ed2-87df-3c15ea5e894e',\n",
       " 'https://www.autoscout24.com//offers/mazda-cx-5-cd150-awd-revolution-diesel-red-b4729be0-87bf-44f4-8478-61b521b32a17',\n",
       " 'https://www.autoscout24.com//offers/volkswagen-passat-variant-scr-highline-tdi-4motion-dsg-diesel-black-554b4199-44d5-6b28-e053-e250040ae4f5',\n",
       " 'https://www.autoscout24.com//offers/nissan-qashqai-1-6d-n-connecta-diesel-silver-221bce94-023d-4b76-8c75-5fb3502c4862',\n",
       " 'https://www.autoscout24.com//offers/skoda-octavia-style-1-6tdi-pano-acc-teilleder-led-navi-diesel-black-32d84a5a-b1fd-442b-9579-5ee401804013',\n",
       " 'https://www.autoscout24.com//offers/kia-pro-cee-d-proceed-pro-ceed-1-6-crdi-scr-gt-line-oeet-diesel-blue-93411a80-4b24-4031-8712-1b4ff7cdc31b',\n",
       " 'https://www.autoscout24.com//offers/volkswagen-touran-sky-tdi-scr-dsg-5-sitzer-diesel-grey-2f2367a4-05c0-4200-8059-f4cc7f82701f',\n",
       " 'https://www.autoscout24.com//offers/mercedes-benz-c-220-d-comand-distronic-led-navi-kamera-diesel-green-89fea789-a136-444a-8052-11c9f369ee47',\n",
       " 'https://www.autoscout24.com//offers/opel-meriva-1-4-16v-cosmo-gasoline-white-5499f99b-8f96-b76c-e053-e250040a6fd2',\n",
       " 'https://www.autoscout24.com//offers/audi-a4-avant-2-0-tdi-dpf-pano-s-line-xenon-navi-diesel-white-915929c2-f8db-4d77-b7ff-df73b5bdceb6',\n",
       " 'https://www.autoscout24.com//offers/dacia-duster-prestige-blue-dci-115-s-s-4wd-diesel-orange-eb68a19c-a738-4561-9f3a-ba7b08e4b1be',\n",
       " 'https://www.autoscout24.com//offers/volkswagen-passat-variant-highline-2-0-tdi-scr-diesel-black-e36f907b-2b60-4b83-895c-65b88c2f22ff',\n",
       " 'https://www.autoscout24.com//offers/volkswagen-caddy-maxi-kombi-tdi-diesel-white-9f6cb455-3ab9-468f-b1c4-ee98c0e5ce9d',\n",
       " 'https://www.autoscout24.com//offers/kia-cee-d-ceed-1-4-mpi-titan-gasoline-grey-1cb71435-488a-4fff-b4e6-1b5402c1a31b',\n",
       " 'https://www.autoscout24.com//offers/ford-focus-1-5-tdci-trend-diesel-white-efa7d502-be7c-49e6-8345-d50b43b7d0bc',\n",
       " 'https://www.autoscout24.com//offers/honda-civic-2-2-i-ctdi-executive-diesel-black-024dcd91-3ce7-4224-e053-e250040a1817',\n",
       " 'https://www.autoscout24.com//offers/bmw-535-v8-e39-tausch-moeglich-gasoline-silver-daf3ed9b-7dc6-113b-e053-e250040a613d',\n",
       " 'https://www.autoscout24.com//offers/ford-focus-st-line-trav-1-0-eboost-125ps-m6-gasoline-black-c29f7157-ca25-47a0-b29e-f1b7909bde41',\n",
       " 'https://www.autoscout24.com//offers/seat-ibiza-formula-race-1-2-tsi-gasoline-white-52e3105d-a02e-4b1e-b0ad-b68f563e9b3b',\n",
       " 'https://www.autoscout24.com//offers/seat-ibiza-reference-1-2-gasoline-black-08d6195d-f5d7-4709-b2b6-4a82f08e4e1b',\n",
       " 'https://www.autoscout24.com//offers/opel-astra-5-tuerer-120-jahre-diesel-grey-8ab9ada1-f377-4558-8489-ad07c2ec5c9f',\n",
       " 'https://www.autoscout24.com//offers/bmw-x5-3-0d-aut-diesel-grey-64f34c93-288b-cd1b-e053-e250040a73f3',\n",
       " 'https://www.autoscout24.com//offers/seat-alhambra-family-2-0-tdi-cr-dpf-diesel-silver-f42f149a-752f-7e45-e053-e250040a1e58',\n",
       " 'https://www.autoscout24.com//offers/volkswagen-touareg-edition-tdi-scr-4motion-diesel-grey-e4853a98-a928-4446-b3fe-3708aa8b84fa',\n",
       " 'https://www.autoscout24.com//offers/ford-galaxy-2-0-ecoblue-trend-5-sitzer-diesel-silver-c9e4eb15-c7d8-4ae7-9b38-9426425cc789',\n",
       " 'https://www.autoscout24.com//offers/ford-transit-courier-1-0-ecoboost-trend-l1h1-gasoline-blue-c12e7bd2-d223-4558-badc-71bb5c4080fe',\n",
       " 'https://www.autoscout24.com//offers/volkswagen-caddy-trendline-tdi-diesel-grey-848c2843-3746-4ecc-8a61-bf9bdb41a9dc',\n",
       " 'https://www.autoscout24.com//offers/bmw-525-5er-reihe-kombi-diesel-touring-aut-finanzierung-diesel-grey-e5601597-47c9-4d77-e053-e250040ad0c7',\n",
       " 'https://www.autoscout24.com//offers/kia-xceed-1-6-crdi-scr-silber-mt6-116-isg-diesel-white-69004d9c-a73f-42c9-8ec9-0388d8e73f88',\n",
       " 'https://www.autoscout24.com//offers/volkswagen-sharan-comfortline-bmt-2-0-tdi-dpf-diesel-black-f928789b-1544-0937-e053-e250040a6b6a',\n",
       " 'https://www.autoscout24.com//offers/bmw-x3-xdrive-20d-m-sport-aut-diesel-white-59c12c4d-5066-463e-acaf-28e821341a20',\n",
       " 'https://www.autoscout24.com//offers/volkswagen-touran-1-6-tdi-dsg-7-sitze-navi-alcantara-shz-pdc-diesel-silver-27a23f2a-3ecf-44f9-8bcd-63edc0c1617e',\n",
       " 'https://www.autoscout24.com//offers/mercedes-benz-200-diesel-beige-9a316e9a-e579-320f-e053-e250040a4c12',\n",
       " 'https://www.autoscout24.com//offers/volkswagen-t5-doka-pritsche-4-motion-diesel-red-88dd2c02-1ca8-46d9-bf43-2bf25e249aec',\n",
       " 'https://www.autoscout24.com//offers/mercedes-benz-gla-180-off-roader-spur-p-night-led-navi-kamera-b-gasoline-silver-dd04a7f5-b863-4ed2-b7c5-76d98ad3bbb8',\n",
       " 'https://www.autoscout24.com//offers/ford-f-150-xlt-supercab-gunmetal-edition-neu-gasoline-grey-bb18ca0b-94ed-483a-ad8d-e6de9fc46ebd',\n",
       " 'https://www.autoscout24.com//offers/suzuki-jimny-1-5-vvt-allgrip-flash-cabrio-gasoline-white-c45c0c96-76d3-42b4-bec2-523e7303383d',\n",
       " 'https://www.autoscout24.com//offers/peugeot-208-act-pt-68-5t-gasoline-red-f5dab8c5-4c5d-4cef-b8c4-dd47876e68c2',\n",
       " 'https://www.autoscout24.com//offers/volkswagen-sharan-bus-tdi-scr-4motion-dsg-7-sitzer-diesel-silver-0a1e4721-5557-4b89-847d-7d01bc3e3187',\n",
       " 'https://www.autoscout24.com//offers/renault-kangoo-expression-1-5-dci-dpf-diesel-white-a2d01bf4-fd57-46c2-8959-e43bb61dc6d6',\n",
       " 'https://www.autoscout24.com//offers/bmw-320-3er-reihe-coupe-diesel-e92-coupe-diesel-white-6ae7c89b-3455-8326-e053-e250040ae95b',\n",
       " 'https://www.autoscout24.com//offers/volkswagen-golf-rabbit-1-6tdi-komfortpaket-diesel-silver-a41810fe-2e97-4a9a-9567-6663453e3378',\n",
       " 'https://www.autoscout24.com//offers/peugeot-expert-premium-kasten-l2h1-2-0-bluehdi-120-diesel-white-fe4a54cf-b736-4171-ac2d-5727cc79dde4',\n",
       " 'https://www.autoscout24.com//offers/mercedes-benz-glc-250-4matic-aut-allrad-leder-automatik-ahk-spo-gasoline-blue-9dbfd5f0-5764-48c9-84a8-6db57a3cacca',\n",
       " 'https://www.autoscout24.com//offers/nissan-qashqai-1-5-dci-acenta-mit-navi-diesel-red-0ea16e04-6bad-457a-a80c-3143e26dc272',\n",
       " 'https://www.autoscout24.com//offers/fiat-500-1-2-fire-70-sport-gasoline-blue-45a9d370-885a-4fb1-87c9-a2ea80f0c7b6',\n",
       " 'https://www.autoscout24.com//offers/suzuki-vitara-1-4-ditc-4wd-shine-10-stueck-lagernd-gasoline-yellow-f5944c23-281e-42cb-992e-9980cde38750',\n",
       " 'https://www.autoscout24.com//offers/volkswagen-passat-variant-tl-2-0-tdi-navi-radar-shz-wenig-km-diesel-silver-ba59890c-d945-4249-8a82-85344deec59d',\n",
       " 'https://www.autoscout24.com//offers/skoda-octavia-combi-2-0-tsi-dsg-scout-4x4-ahk-leder-alcantara-gasoline-silver-5969422d-f4f5-4598-a150-e2820d10a43c',\n",
       " 'https://www.autoscout24.com//offers/volkswagen-passat-variant-cl-1-6-tdi-dsg-navi-radar-sd-shz-megapreis-diesel-red-7e3c6fbc-825a-4d59-88ef-5a06eb79b9a7',\n",
       " 'https://www.autoscout24.com//offers/ford-focus-traveller-1-5-ecoblue-titanium-business-diesel-black-180c85c4-f25b-4c88-9209-d4de37ac7d16',\n",
       " 'https://www.autoscout24.com//offers/peugeot-508-2-0-bluehdi-180-eat8-s-s-gt-line-diesel-white-9282f78f-97bc-4203-98e2-eb504310b691',\n",
       " 'https://www.autoscout24.com//offers/nissan-x-trail-tekna-1-7-dci-150-ps-6mt-4x4-5-sitze-pgd-t-diesel-black-b383bf92-4d12-47d2-9a5d-334da3aec407',\n",
       " 'https://www.autoscout24.com//offers/mazda-cx-30-g122-comfort-so-st-gasoline-grey-0820eeab-926b-4770-9e11-701b74de9a5d',\n",
       " 'https://www.autoscout24.com//offers/audi-q3-2-0-tfsi-quattro-gasoline-silver-2b3f9a96-eab0-f036-e053-e250040ab6be',\n",
       " 'https://www.autoscout24.com//offers/volkswagen-passat-comfortline-bmt-1-6-tdi-diesel-white-dcfda801-cc84-4f3f-9e62-8526e314aa9c',\n",
       " 'https://www.autoscout24.com//offers/jaguar-mk-ii-original-gasoline-silver-e4745b83-d3de-a855-e053-e250040a6847',\n",
       " 'https://www.autoscout24.com//offers/volkswagen-sharan-sky-bmt-2-0-tdi-dpf-4motion-diesel-brown-e1d0a14a-cfdc-4235-baf6-197a5d3ec1c2',\n",
       " 'https://www.autoscout24.com//offers/opel-grandland-x-1-2-turbo-direct-injection-innovation-start-stop-gasoline-black-9605d559-f15b-4006-b390-d756d77ef99c',\n",
       " 'https://www.autoscout24.com//offers/volkswagen-passat-variant-comfortline-bmt-1-6-tdi-diesel-silver-6745b398-4c14-c303-e053-e250040a2339',\n",
       " 'https://www.autoscout24.com//offers/opel-zafira-1-9-cdti-diesel-black-21a5db91-9d7b-6736-e053-e250040ad707',\n",
       " 'https://www.autoscout24.com//offers/hyundai-kona-1-0-t-gdi-2wd-level-3-gasoline-blue-d914f917-af50-4fd0-8492-e6cb3450a70a',\n",
       " 'https://www.autoscout24.com//offers/mazda-cx-5-cd175-awd-revolution-top-diesel-red-3fe19dfc-db01-419c-aa1f-cf7eaf9c6843',\n",
       " 'https://www.autoscout24.com//offers/mercedes-benz-c-200-t-cdi-avantgarde-amg-paket-diesel-black-ef38f394-8d40-8942-e053-e250040ac46f',\n",
       " 'https://www.autoscout24.com//offers/skoda-fabia-monte-carlo-tsi-gasoline-grey-98076160-bafd-428b-8d9b-0033265ec7f1',\n",
       " 'https://www.autoscout24.com//offers/audi-a4-b8-sline-diesel-black-86647794-9c3c-e712-e053-e250040ad39d',\n",
       " 'https://www.autoscout24.com//offers/seat-toledo-1-9-tdi-fresh-diesel-grey-00b51192-ac8b-2d08-e053-e250040ac4e6',\n",
       " 'https://www.autoscout24.com//offers/land-rover-diesel-blue-8b867a2e-9d65-4061-8ed8-0abf6b4d9535',\n",
       " 'https://www.autoscout24.com//offers/audi-a6-2-0-tdi-ultra-s-tronic-diesel-white-b0383999-11cd-46c6-9204-fecf7c2cabab',\n",
       " 'https://www.autoscout24.com//offers/mercedes-benz-cla-200-d-shooting-brake-diesel-black-6feea49b-4f78-4b1d-b8ff-dbd9912e1c3e',\n",
       " 'https://www.autoscout24.com//offers/ford-c-max-easy-1-0-ecoboost-gasoline-white-fa641e44-2fd0-4874-9371-e126cb2becfe',\n",
       " 'https://www.autoscout24.com//offers/volkswagen-sharan-2-0-tdi-dsg-bluemotion-technology-trendline-diesel-blue-9af51a95-d8f4-ff3c-e053-e250040a3e26',\n",
       " 'https://www.autoscout24.com//offers/mercedes-benz-b-180-d-7g-dct-urban-pano-dach-led-navi-kamera-au-diesel-silver-9b752856-2228-4a7b-a4d2-d49f222f3b08',\n",
       " 'https://www.autoscout24.com//offers/audi-a4-1-9-tdi-diesel-red-2031a19b-36ad-677b-e053-e250040af274',\n",
       " 'https://www.autoscout24.com//offers/citroen-c4-grand-picasso-1-6-diesel-diesel-white-32470fdf-1491-4994-b8fb-370bbbb2ac56',\n",
       " 'https://www.autoscout24.com//offers/mazda-2-cd68-plusline-diesel-grey-fda9d0ba-349e-47c9-baae-1faaabc9acb3',\n",
       " 'https://www.autoscout24.com//offers/audi-q7-3-0-tdi-quattro-clean-diesel-dpf-tiptronic-s-line-diesel-black-1a65dbcc-62c8-4834-820c-6df9a3eb8ebd',\n",
       " 'https://www.autoscout24.com//offers/ford-ecosport-1-0-ecoboost-trendline-5-jahre-garantieklimaaut-gasoline-white-a2e2feb8-8911-4cd9-bda3-437d7d965d5f',\n",
       " 'https://www.autoscout24.com//offers/mercedes-benz-s-600-l-aut-lorinser-gasoline-black-d1f25b65-e895-48e2-acea-94ca6b924428',\n",
       " 'https://www.autoscout24.com//offers/bmw-116-1er-reihe-e81-oesterreich-paket-gasoline-white-b3e99a49-2978-4d3e-829b-c18c5c7ac307',\n",
       " 'https://www.autoscout24.com//offers/fiat-500x-cross-120-ps-t3-gasoline-green-b3d2c664-442d-492b-9ec1-31a7dfef625e',\n",
       " 'https://www.autoscout24.com//offers/volkswagen-golf-style-neues-modell-8-1-5-tsi-act-110kw-150ps-gasoline-white-3d92c8c4-6a9d-475c-a937-3c781523fb31',\n",
       " 'https://www.autoscout24.com//offers/volkswagen-golf-plus-trendline-1-9-tdi-dpf-diesel-grey-b58d760f-3bce-4100-a506-db68d1418486',\n",
       " 'https://www.autoscout24.com//offers/mitsubishi-colt-5dr-1-1-mpi-austria-edition-gasoline-red-7305f6b8-b132-48d7-bc93-1a36aea4ec7f',\n",
       " 'https://www.autoscout24.com//offers/kia-cee-d-sportswagon-ceed-sw-1-6-crdi-isg-motion-klimaautomatik-diesel-grey-cb3d6194-b410-1362-e053-e250040a5a28',\n",
       " 'https://www.autoscout24.com//offers/mercedes-benz-e-220-d-aut-coupe-widescreen-amg-pandach-20-n-diesel-white-b6c3b2ed-abb3-41f9-b84b-e8f835ab32e0',\n",
       " 'https://www.autoscout24.com//offers/audi-a5-sb-2-0-tfsi-quattro-sport-s-tronic-gasoline-grey-5d2cfdf1-8698-4b0b-996a-3c02af099d84',\n",
       " 'https://www.autoscout24.com//offers/ford-galaxy-titanium-2-0l-eblue-150ps-a8-diesel-white-f34918cb-b85c-49d9-890f-f69b8422a30a',\n",
       " 'https://www.autoscout24.com//offers/opel-mokka-opel-x-utimate-1-4-4wd-gasoline-silver-b1c31283-76cc-4150-8c4e-1613295c3c91',\n",
       " 'https://www.autoscout24.com//offers/bmw-i3-mit-batterie-navi-waermepumpe-electric-white-277a5d7f-a537-4eb3-a5df-e54fa7b24c9e',\n",
       " 'https://www.autoscout24.com//offers/volkswagen-t1-westfalia-camper-oesterreichische-auslieferung-gasoline-green-c71bd132-0514-44df-968c-3d6ec275703c',\n",
       " 'https://www.autoscout24.com//offers/volkswagen-golf-r32-4motion-dsg-gasoline-black-81a38d9a-2083-a145-e053-e250040ad899',\n",
       " 'https://www.autoscout24.com//offers/fiat-talento-kw-sx-30-l2h1-120-diesel-white-3941368f-b60d-49f2-8d1d-2a9b338dd52d',\n",
       " 'https://www.autoscout24.com//offers/fiat-panda-twinair-85-4x4-wild-summit-gasoline-orange-8b9aa05b-3de9-4d7f-aeaa-6d8ba58d42b5']"
      ]
     },
     "execution_count": 67,
     "metadata": {},
     "output_type": "execute_result"
    }
   ],
   "source": [
    "df"
   ]
  },
  {
   "cell_type": "code",
   "execution_count": 68,
   "metadata": {},
   "outputs": [],
   "source": [
    "def check(link):\n",
    "    rs = requests.get(link)\n",
    "    return rs"
   ]
  },
  {
   "cell_type": "code",
   "execution_count": 69,
   "metadata": {},
   "outputs": [
    {
     "name": "stdout",
     "output_type": "stream",
     "text": [
      "[{'link': 'https://www.autoscout24.com//offers/bmw-x5-3-0d-oesterreich-paket-aut-xenon-navi-ahk-diesel-grey-97bff86a-d3a8-4d33-9054-8007b98d735f', 'Response': 'True'}, {'link': 'https://www.autoscout24.com//offers/mercedes-benz-viano-trend-lang-2-0-cdi-diesel-grey-7fa6b3d9-d784-4f29-a745-4c6883c81f8b', 'Response': 'True'}, {'link': 'https://www.autoscout24.com//offers/fiat-doblo-arrivo-kombi-maxi-sx-1-6-105-ps-diesel-grey-0ca55a92-8dbc-4711-b8d0-512cae49914d', 'Response': 'True'}, {'link': 'https://www.autoscout24.com//offers/bmw-520-d-xdrive-diesel-blue-c74ba526-99af-4d1c-aee8-de2e16f1ba65', 'Response': 'True'}, {'link': 'https://www.autoscout24.com//offers/nissan-nv400-l2h2-2-3dci-125-3-5t-comfort-mwst-erstbesitz-blue-diesel-white-6e0f17ad-2911-4a00-8d3c-017f703cd24a', 'Response': 'True'}, {'link': 'https://www.autoscout24.com//offers/hyundai-i20-1-25-level-2-plus-gasoline-blue-c767835d-903c-4945-9f2a-e514dfbffd12', 'Response': 'True'}, {'link': 'https://www.autoscout24.com//offers/ford-kuga-ford-2-0-titanium-4x4-tdci-dpf-diesel-white-389faec0-96a1-4ed2-87df-3c15ea5e894e', 'Response': 'True'}, {'link': 'https://www.autoscout24.com//offers/mazda-cx-5-cd150-awd-revolution-diesel-red-b4729be0-87bf-44f4-8478-61b521b32a17', 'Response': 'True'}, {'link': 'https://www.autoscout24.com//offers/volkswagen-passat-variant-scr-highline-tdi-4motion-dsg-diesel-black-554b4199-44d5-6b28-e053-e250040ae4f5', 'Response': 'True'}, {'link': 'https://www.autoscout24.com//offers/nissan-qashqai-1-6d-n-connecta-diesel-silver-221bce94-023d-4b76-8c75-5fb3502c4862', 'Response': 'True'}, {'link': 'https://www.autoscout24.com//offers/skoda-octavia-style-1-6tdi-pano-acc-teilleder-led-navi-diesel-black-32d84a5a-b1fd-442b-9579-5ee401804013', 'Response': 'False'}, {'link': 'https://www.autoscout24.com//offers/kia-pro-cee-d-proceed-pro-ceed-1-6-crdi-scr-gt-line-oeet-diesel-blue-93411a80-4b24-4031-8712-1b4ff7cdc31b', 'Response': 'True'}, {'link': 'https://www.autoscout24.com//offers/volkswagen-touran-sky-tdi-scr-dsg-5-sitzer-diesel-grey-2f2367a4-05c0-4200-8059-f4cc7f82701f', 'Response': 'True'}, {'link': 'https://www.autoscout24.com//offers/mercedes-benz-c-220-d-comand-distronic-led-navi-kamera-diesel-green-89fea789-a136-444a-8052-11c9f369ee47', 'Response': 'True'}, {'link': 'https://www.autoscout24.com//offers/opel-meriva-1-4-16v-cosmo-gasoline-white-5499f99b-8f96-b76c-e053-e250040a6fd2', 'Response': 'True'}, {'link': 'https://www.autoscout24.com//offers/audi-a4-avant-2-0-tdi-dpf-pano-s-line-xenon-navi-diesel-white-915929c2-f8db-4d77-b7ff-df73b5bdceb6', 'Response': 'True'}, {'link': 'https://www.autoscout24.com//offers/dacia-duster-prestige-blue-dci-115-s-s-4wd-diesel-orange-eb68a19c-a738-4561-9f3a-ba7b08e4b1be', 'Response': 'True'}, {'link': 'https://www.autoscout24.com//offers/volkswagen-passat-variant-highline-2-0-tdi-scr-diesel-black-e36f907b-2b60-4b83-895c-65b88c2f22ff', 'Response': 'True'}, {'link': 'https://www.autoscout24.com//offers/volkswagen-caddy-maxi-kombi-tdi-diesel-white-9f6cb455-3ab9-468f-b1c4-ee98c0e5ce9d', 'Response': 'True'}, {'link': 'https://www.autoscout24.com//offers/kia-cee-d-ceed-1-4-mpi-titan-gasoline-grey-1cb71435-488a-4fff-b4e6-1b5402c1a31b', 'Response': 'True'}, {'link': 'https://www.autoscout24.com//offers/ford-focus-1-5-tdci-trend-diesel-white-efa7d502-be7c-49e6-8345-d50b43b7d0bc', 'Response': 'True'}, {'link': 'https://www.autoscout24.com//offers/honda-civic-2-2-i-ctdi-executive-diesel-black-024dcd91-3ce7-4224-e053-e250040a1817', 'Response': 'True'}, {'link': 'https://www.autoscout24.com//offers/bmw-535-v8-e39-tausch-moeglich-gasoline-silver-daf3ed9b-7dc6-113b-e053-e250040a613d', 'Response': 'True'}, {'link': 'https://www.autoscout24.com//offers/ford-focus-st-line-trav-1-0-eboost-125ps-m6-gasoline-black-c29f7157-ca25-47a0-b29e-f1b7909bde41', 'Response': 'True'}, {'link': 'https://www.autoscout24.com//offers/seat-ibiza-formula-race-1-2-tsi-gasoline-white-52e3105d-a02e-4b1e-b0ad-b68f563e9b3b', 'Response': 'True'}, {'link': 'https://www.autoscout24.com//offers/seat-ibiza-reference-1-2-gasoline-black-08d6195d-f5d7-4709-b2b6-4a82f08e4e1b', 'Response': 'False'}, {'link': 'https://www.autoscout24.com//offers/opel-astra-5-tuerer-120-jahre-diesel-grey-8ab9ada1-f377-4558-8489-ad07c2ec5c9f', 'Response': 'True'}, {'link': 'https://www.autoscout24.com//offers/bmw-x5-3-0d-aut-diesel-grey-64f34c93-288b-cd1b-e053-e250040a73f3', 'Response': 'True'}, {'link': 'https://www.autoscout24.com//offers/seat-alhambra-family-2-0-tdi-cr-dpf-diesel-silver-f42f149a-752f-7e45-e053-e250040a1e58', 'Response': 'True'}, {'link': 'https://www.autoscout24.com//offers/volkswagen-touareg-edition-tdi-scr-4motion-diesel-grey-e4853a98-a928-4446-b3fe-3708aa8b84fa', 'Response': 'True'}, {'link': 'https://www.autoscout24.com//offers/ford-galaxy-2-0-ecoblue-trend-5-sitzer-diesel-silver-c9e4eb15-c7d8-4ae7-9b38-9426425cc789', 'Response': 'True'}, {'link': 'https://www.autoscout24.com//offers/ford-transit-courier-1-0-ecoboost-trend-l1h1-gasoline-blue-c12e7bd2-d223-4558-badc-71bb5c4080fe', 'Response': 'True'}, {'link': 'https://www.autoscout24.com//offers/volkswagen-caddy-trendline-tdi-diesel-grey-848c2843-3746-4ecc-8a61-bf9bdb41a9dc', 'Response': 'True'}, {'link': 'https://www.autoscout24.com//offers/bmw-525-5er-reihe-kombi-diesel-touring-aut-finanzierung-diesel-grey-e5601597-47c9-4d77-e053-e250040ad0c7', 'Response': 'True'}, {'link': 'https://www.autoscout24.com//offers/kia-xceed-1-6-crdi-scr-silber-mt6-116-isg-diesel-white-69004d9c-a73f-42c9-8ec9-0388d8e73f88', 'Response': 'True'}, {'link': 'https://www.autoscout24.com//offers/volkswagen-sharan-comfortline-bmt-2-0-tdi-dpf-diesel-black-f928789b-1544-0937-e053-e250040a6b6a', 'Response': 'True'}, {'link': 'https://www.autoscout24.com//offers/bmw-x3-xdrive-20d-m-sport-aut-diesel-white-59c12c4d-5066-463e-acaf-28e821341a20', 'Response': 'True'}, {'link': 'https://www.autoscout24.com//offers/volkswagen-touran-1-6-tdi-dsg-7-sitze-navi-alcantara-shz-pdc-diesel-silver-27a23f2a-3ecf-44f9-8bcd-63edc0c1617e', 'Response': 'True'}, {'link': 'https://www.autoscout24.com//offers/mercedes-benz-200-diesel-beige-9a316e9a-e579-320f-e053-e250040a4c12', 'Response': 'True'}, {'link': 'https://www.autoscout24.com//offers/volkswagen-t5-doka-pritsche-4-motion-diesel-red-88dd2c02-1ca8-46d9-bf43-2bf25e249aec', 'Response': 'True'}, {'link': 'https://www.autoscout24.com//offers/mercedes-benz-gla-180-off-roader-spur-p-night-led-navi-kamera-b-gasoline-silver-dd04a7f5-b863-4ed2-b7c5-76d98ad3bbb8', 'Response': 'True'}, {'link': 'https://www.autoscout24.com//offers/ford-f-150-xlt-supercab-gunmetal-edition-neu-gasoline-grey-bb18ca0b-94ed-483a-ad8d-e6de9fc46ebd', 'Response': 'True'}, {'link': 'https://www.autoscout24.com//offers/suzuki-jimny-1-5-vvt-allgrip-flash-cabrio-gasoline-white-c45c0c96-76d3-42b4-bec2-523e7303383d', 'Response': 'True'}, {'link': 'https://www.autoscout24.com//offers/peugeot-208-act-pt-68-5t-gasoline-red-f5dab8c5-4c5d-4cef-b8c4-dd47876e68c2', 'Response': 'True'}, {'link': 'https://www.autoscout24.com//offers/volkswagen-sharan-bus-tdi-scr-4motion-dsg-7-sitzer-diesel-silver-0a1e4721-5557-4b89-847d-7d01bc3e3187', 'Response': 'True'}, {'link': 'https://www.autoscout24.com//offers/renault-kangoo-expression-1-5-dci-dpf-diesel-white-a2d01bf4-fd57-46c2-8959-e43bb61dc6d6', 'Response': 'True'}, {'link': 'https://www.autoscout24.com//offers/bmw-320-3er-reihe-coupe-diesel-e92-coupe-diesel-white-6ae7c89b-3455-8326-e053-e250040ae95b', 'Response': 'True'}, {'link': 'https://www.autoscout24.com//offers/volkswagen-golf-rabbit-1-6tdi-komfortpaket-diesel-silver-a41810fe-2e97-4a9a-9567-6663453e3378', 'Response': 'True'}, {'link': 'https://www.autoscout24.com//offers/peugeot-expert-premium-kasten-l2h1-2-0-bluehdi-120-diesel-white-fe4a54cf-b736-4171-ac2d-5727cc79dde4', 'Response': 'True'}, {'link': 'https://www.autoscout24.com//offers/mercedes-benz-glc-250-4matic-aut-allrad-leder-automatik-ahk-spo-gasoline-blue-9dbfd5f0-5764-48c9-84a8-6db57a3cacca', 'Response': 'True'}, {'link': 'https://www.autoscout24.com//offers/nissan-qashqai-1-5-dci-acenta-mit-navi-diesel-red-0ea16e04-6bad-457a-a80c-3143e26dc272', 'Response': 'True'}, {'link': 'https://www.autoscout24.com//offers/fiat-500-1-2-fire-70-sport-gasoline-blue-45a9d370-885a-4fb1-87c9-a2ea80f0c7b6', 'Response': 'True'}, {'link': 'https://www.autoscout24.com//offers/suzuki-vitara-1-4-ditc-4wd-shine-10-stueck-lagernd-gasoline-yellow-f5944c23-281e-42cb-992e-9980cde38750', 'Response': 'True'}, {'link': 'https://www.autoscout24.com//offers/volkswagen-passat-variant-tl-2-0-tdi-navi-radar-shz-wenig-km-diesel-silver-ba59890c-d945-4249-8a82-85344deec59d', 'Response': 'True'}, {'link': 'https://www.autoscout24.com//offers/skoda-octavia-combi-2-0-tsi-dsg-scout-4x4-ahk-leder-alcantara-gasoline-silver-5969422d-f4f5-4598-a150-e2820d10a43c', 'Response': 'True'}, {'link': 'https://www.autoscout24.com//offers/volkswagen-passat-variant-cl-1-6-tdi-dsg-navi-radar-sd-shz-megapreis-diesel-red-7e3c6fbc-825a-4d59-88ef-5a06eb79b9a7', 'Response': 'True'}, {'link': 'https://www.autoscout24.com//offers/ford-focus-traveller-1-5-ecoblue-titanium-business-diesel-black-180c85c4-f25b-4c88-9209-d4de37ac7d16', 'Response': 'True'}, {'link': 'https://www.autoscout24.com//offers/peugeot-508-2-0-bluehdi-180-eat8-s-s-gt-line-diesel-white-9282f78f-97bc-4203-98e2-eb504310b691', 'Response': 'True'}, {'link': 'https://www.autoscout24.com//offers/nissan-x-trail-tekna-1-7-dci-150-ps-6mt-4x4-5-sitze-pgd-t-diesel-black-b383bf92-4d12-47d2-9a5d-334da3aec407', 'Response': 'True'}, {'link': 'https://www.autoscout24.com//offers/mazda-cx-30-g122-comfort-so-st-gasoline-grey-0820eeab-926b-4770-9e11-701b74de9a5d', 'Response': 'True'}, {'link': 'https://www.autoscout24.com//offers/audi-q3-2-0-tfsi-quattro-gasoline-silver-2b3f9a96-eab0-f036-e053-e250040ab6be', 'Response': 'True'}, {'link': 'https://www.autoscout24.com//offers/volkswagen-passat-comfortline-bmt-1-6-tdi-diesel-white-dcfda801-cc84-4f3f-9e62-8526e314aa9c', 'Response': 'True'}, {'link': 'https://www.autoscout24.com//offers/jaguar-mk-ii-original-gasoline-silver-e4745b83-d3de-a855-e053-e250040a6847', 'Response': 'True'}, {'link': 'https://www.autoscout24.com//offers/volkswagen-sharan-sky-bmt-2-0-tdi-dpf-4motion-diesel-brown-e1d0a14a-cfdc-4235-baf6-197a5d3ec1c2', 'Response': 'True'}, {'link': 'https://www.autoscout24.com//offers/opel-grandland-x-1-2-turbo-direct-injection-innovation-start-stop-gasoline-black-9605d559-f15b-4006-b390-d756d77ef99c', 'Response': 'True'}, {'link': 'https://www.autoscout24.com//offers/volkswagen-passat-variant-comfortline-bmt-1-6-tdi-diesel-silver-6745b398-4c14-c303-e053-e250040a2339', 'Response': 'True'}, {'link': 'https://www.autoscout24.com//offers/opel-zafira-1-9-cdti-diesel-black-21a5db91-9d7b-6736-e053-e250040ad707', 'Response': 'True'}, {'link': 'https://www.autoscout24.com//offers/hyundai-kona-1-0-t-gdi-2wd-level-3-gasoline-blue-d914f917-af50-4fd0-8492-e6cb3450a70a', 'Response': 'True'}, {'link': 'https://www.autoscout24.com//offers/mazda-cx-5-cd175-awd-revolution-top-diesel-red-3fe19dfc-db01-419c-aa1f-cf7eaf9c6843', 'Response': 'True'}, {'link': 'https://www.autoscout24.com//offers/mercedes-benz-c-200-t-cdi-avantgarde-amg-paket-diesel-black-ef38f394-8d40-8942-e053-e250040ac46f', 'Response': 'True'}, {'link': 'https://www.autoscout24.com//offers/skoda-fabia-monte-carlo-tsi-gasoline-grey-98076160-bafd-428b-8d9b-0033265ec7f1', 'Response': 'True'}, {'link': 'https://www.autoscout24.com//offers/audi-a4-b8-sline-diesel-black-86647794-9c3c-e712-e053-e250040ad39d', 'Response': 'True'}, {'link': 'https://www.autoscout24.com//offers/seat-toledo-1-9-tdi-fresh-diesel-grey-00b51192-ac8b-2d08-e053-e250040ac4e6', 'Response': 'True'}, {'link': 'https://www.autoscout24.com//offers/land-rover-diesel-blue-8b867a2e-9d65-4061-8ed8-0abf6b4d9535', 'Response': 'True'}, {'link': 'https://www.autoscout24.com//offers/audi-a6-2-0-tdi-ultra-s-tronic-diesel-white-b0383999-11cd-46c6-9204-fecf7c2cabab', 'Response': 'True'}, {'link': 'https://www.autoscout24.com//offers/mercedes-benz-cla-200-d-shooting-brake-diesel-black-6feea49b-4f78-4b1d-b8ff-dbd9912e1c3e', 'Response': 'True'}, {'link': 'https://www.autoscout24.com//offers/ford-c-max-easy-1-0-ecoboost-gasoline-white-fa641e44-2fd0-4874-9371-e126cb2becfe', 'Response': 'True'}, {'link': 'https://www.autoscout24.com//offers/volkswagen-sharan-2-0-tdi-dsg-bluemotion-technology-trendline-diesel-blue-9af51a95-d8f4-ff3c-e053-e250040a3e26', 'Response': 'True'}, {'link': 'https://www.autoscout24.com//offers/mercedes-benz-b-180-d-7g-dct-urban-pano-dach-led-navi-kamera-au-diesel-silver-9b752856-2228-4a7b-a4d2-d49f222f3b08', 'Response': 'True'}, {'link': 'https://www.autoscout24.com//offers/audi-a4-1-9-tdi-diesel-red-2031a19b-36ad-677b-e053-e250040af274', 'Response': 'True'}, {'link': 'https://www.autoscout24.com//offers/citroen-c4-grand-picasso-1-6-diesel-diesel-white-32470fdf-1491-4994-b8fb-370bbbb2ac56', 'Response': 'True'}, {'link': 'https://www.autoscout24.com//offers/mazda-2-cd68-plusline-diesel-grey-fda9d0ba-349e-47c9-baae-1faaabc9acb3', 'Response': 'True'}, {'link': 'https://www.autoscout24.com//offers/audi-q7-3-0-tdi-quattro-clean-diesel-dpf-tiptronic-s-line-diesel-black-1a65dbcc-62c8-4834-820c-6df9a3eb8ebd', 'Response': 'True'}, {'link': 'https://www.autoscout24.com//offers/ford-ecosport-1-0-ecoboost-trendline-5-jahre-garantieklimaaut-gasoline-white-a2e2feb8-8911-4cd9-bda3-437d7d965d5f', 'Response': 'True'}, {'link': 'https://www.autoscout24.com//offers/mercedes-benz-s-600-l-aut-lorinser-gasoline-black-d1f25b65-e895-48e2-acea-94ca6b924428', 'Response': 'True'}, {'link': 'https://www.autoscout24.com//offers/bmw-116-1er-reihe-e81-oesterreich-paket-gasoline-white-b3e99a49-2978-4d3e-829b-c18c5c7ac307', 'Response': 'True'}, {'link': 'https://www.autoscout24.com//offers/fiat-500x-cross-120-ps-t3-gasoline-green-b3d2c664-442d-492b-9ec1-31a7dfef625e', 'Response': 'True'}, {'link': 'https://www.autoscout24.com//offers/volkswagen-golf-style-neues-modell-8-1-5-tsi-act-110kw-150ps-gasoline-white-3d92c8c4-6a9d-475c-a937-3c781523fb31', 'Response': 'True'}, {'link': 'https://www.autoscout24.com//offers/volkswagen-golf-plus-trendline-1-9-tdi-dpf-diesel-grey-b58d760f-3bce-4100-a506-db68d1418486', 'Response': 'True'}, {'link': 'https://www.autoscout24.com//offers/mitsubishi-colt-5dr-1-1-mpi-austria-edition-gasoline-red-7305f6b8-b132-48d7-bc93-1a36aea4ec7f', 'Response': 'True'}, {'link': 'https://www.autoscout24.com//offers/kia-cee-d-sportswagon-ceed-sw-1-6-crdi-isg-motion-klimaautomatik-diesel-grey-cb3d6194-b410-1362-e053-e250040a5a28', 'Response': 'True'}, {'link': 'https://www.autoscout24.com//offers/mercedes-benz-e-220-d-aut-coupe-widescreen-amg-pandach-20-n-diesel-white-b6c3b2ed-abb3-41f9-b84b-e8f835ab32e0', 'Response': 'True'}, {'link': 'https://www.autoscout24.com//offers/audi-a5-sb-2-0-tfsi-quattro-sport-s-tronic-gasoline-grey-5d2cfdf1-8698-4b0b-996a-3c02af099d84', 'Response': 'True'}, {'link': 'https://www.autoscout24.com//offers/ford-galaxy-titanium-2-0l-eblue-150ps-a8-diesel-white-f34918cb-b85c-49d9-890f-f69b8422a30a', 'Response': 'True'}, {'link': 'https://www.autoscout24.com//offers/opel-mokka-opel-x-utimate-1-4-4wd-gasoline-silver-b1c31283-76cc-4150-8c4e-1613295c3c91', 'Response': 'True'}, {'link': 'https://www.autoscout24.com//offers/bmw-i3-mit-batterie-navi-waermepumpe-electric-white-277a5d7f-a537-4eb3-a5df-e54fa7b24c9e', 'Response': 'False'}, {'link': 'https://www.autoscout24.com//offers/volkswagen-t1-westfalia-camper-oesterreichische-auslieferung-gasoline-green-c71bd132-0514-44df-968c-3d6ec275703c', 'Response': 'True'}, {'link': 'https://www.autoscout24.com//offers/volkswagen-golf-r32-4motion-dsg-gasoline-black-81a38d9a-2083-a145-e053-e250040ad899', 'Response': 'True'}, {'link': 'https://www.autoscout24.com//offers/fiat-talento-kw-sx-30-l2h1-120-diesel-white-3941368f-b60d-49f2-8d1d-2a9b338dd52d', 'Response': 'True'}, {'link': 'https://www.autoscout24.com//offers/fiat-panda-twinair-85-4x4-wild-summit-gasoline-orange-8b9aa05b-3de9-4d7f-aeaa-6d8ba58d42b5', 'Response': 'True'}]"
     ]
    },
    {
     "name": "stdout",
     "output_type": "stream",
     "text": [
      "\n"
     ]
    }
   ],
   "source": [
    "l=[]\n",
    "for link in df:\n",
    "    checker=requests.get(link)\n",
    "    if str(checker) == '<Response [410]>':\n",
    "        check = 'False'\n",
    "    if str(checker) == '<Response [200]>':\n",
    "        check = 'True'\n",
    "    d = {\n",
    "            'link':link,\n",
    "            'Response':check,\n",
    "        \n",
    "            \n",
    "            }\n",
    "    l.append(d)\n",
    "        \n",
    "print(l)"
   ]
  },
  {
   "cell_type": "code",
   "execution_count": 70,
   "metadata": {},
   "outputs": [],
   "source": [
    "DF=pd.DataFrame(l)"
   ]
  },
  {
   "cell_type": "code",
   "execution_count": 71,
   "metadata": {},
   "outputs": [],
   "source": [
    "exists =  DF['Response']=='True'"
   ]
  },
  {
   "cell_type": "code",
   "execution_count": 72,
   "metadata": {},
   "outputs": [],
   "source": [
    "DF = DF[exists]"
   ]
  },
  {
   "cell_type": "code",
   "execution_count": 73,
   "metadata": {
    "scrolled": true
   },
   "outputs": [
    {
     "data": {
      "text/html": [
       "<div>\n",
       "<style scoped>\n",
       "    .dataframe tbody tr th:only-of-type {\n",
       "        vertical-align: middle;\n",
       "    }\n",
       "\n",
       "    .dataframe tbody tr th {\n",
       "        vertical-align: top;\n",
       "    }\n",
       "\n",
       "    .dataframe thead th {\n",
       "        text-align: right;\n",
       "    }\n",
       "</style>\n",
       "<table border=\"1\" class=\"dataframe\">\n",
       "  <thead>\n",
       "    <tr style=\"text-align: right;\">\n",
       "      <th></th>\n",
       "      <th>link</th>\n",
       "      <th>Response</th>\n",
       "    </tr>\n",
       "  </thead>\n",
       "  <tbody>\n",
       "    <tr>\n",
       "      <td>0</td>\n",
       "      <td>https://www.autoscout24.com//offers/bmw-x5-3-0...</td>\n",
       "      <td>True</td>\n",
       "    </tr>\n",
       "    <tr>\n",
       "      <td>1</td>\n",
       "      <td>https://www.autoscout24.com//offers/mercedes-b...</td>\n",
       "      <td>True</td>\n",
       "    </tr>\n",
       "    <tr>\n",
       "      <td>2</td>\n",
       "      <td>https://www.autoscout24.com//offers/fiat-doblo...</td>\n",
       "      <td>True</td>\n",
       "    </tr>\n",
       "    <tr>\n",
       "      <td>3</td>\n",
       "      <td>https://www.autoscout24.com//offers/bmw-520-d-...</td>\n",
       "      <td>True</td>\n",
       "    </tr>\n",
       "    <tr>\n",
       "      <td>4</td>\n",
       "      <td>https://www.autoscout24.com//offers/nissan-nv4...</td>\n",
       "      <td>True</td>\n",
       "    </tr>\n",
       "    <tr>\n",
       "      <td>...</td>\n",
       "      <td>...</td>\n",
       "      <td>...</td>\n",
       "    </tr>\n",
       "    <tr>\n",
       "      <td>94</td>\n",
       "      <td>https://www.autoscout24.com//offers/opel-mokka...</td>\n",
       "      <td>True</td>\n",
       "    </tr>\n",
       "    <tr>\n",
       "      <td>96</td>\n",
       "      <td>https://www.autoscout24.com//offers/volkswagen...</td>\n",
       "      <td>True</td>\n",
       "    </tr>\n",
       "    <tr>\n",
       "      <td>97</td>\n",
       "      <td>https://www.autoscout24.com//offers/volkswagen...</td>\n",
       "      <td>True</td>\n",
       "    </tr>\n",
       "    <tr>\n",
       "      <td>98</td>\n",
       "      <td>https://www.autoscout24.com//offers/fiat-talen...</td>\n",
       "      <td>True</td>\n",
       "    </tr>\n",
       "    <tr>\n",
       "      <td>99</td>\n",
       "      <td>https://www.autoscout24.com//offers/fiat-panda...</td>\n",
       "      <td>True</td>\n",
       "    </tr>\n",
       "  </tbody>\n",
       "</table>\n",
       "<p>97 rows × 2 columns</p>\n",
       "</div>"
      ],
      "text/plain": [
       "                                                 link Response\n",
       "0   https://www.autoscout24.com//offers/bmw-x5-3-0...     True\n",
       "1   https://www.autoscout24.com//offers/mercedes-b...     True\n",
       "2   https://www.autoscout24.com//offers/fiat-doblo...     True\n",
       "3   https://www.autoscout24.com//offers/bmw-520-d-...     True\n",
       "4   https://www.autoscout24.com//offers/nissan-nv4...     True\n",
       "..                                                ...      ...\n",
       "94  https://www.autoscout24.com//offers/opel-mokka...     True\n",
       "96  https://www.autoscout24.com//offers/volkswagen...     True\n",
       "97  https://www.autoscout24.com//offers/volkswagen...     True\n",
       "98  https://www.autoscout24.com//offers/fiat-talen...     True\n",
       "99  https://www.autoscout24.com//offers/fiat-panda...     True\n",
       "\n",
       "[97 rows x 2 columns]"
      ]
     },
     "execution_count": 73,
     "metadata": {},
     "output_type": "execute_result"
    }
   ],
   "source": [
    "DF"
   ]
  },
  {
   "cell_type": "code",
   "execution_count": 74,
   "metadata": {},
   "outputs": [],
   "source": [
    "DF= DF['link'].values.tolist()"
   ]
  },
  {
   "cell_type": "code",
   "execution_count": 83,
   "metadata": {},
   "outputs": [
    {
     "data": {
      "text/plain": [
       "['https://www.autoscout24.com//offers/bmw-x5-3-0d-oesterreich-paket-aut-xenon-navi-ahk-diesel-grey-97bff86a-d3a8-4d33-9054-8007b98d735f',\n",
       " 'https://www.autoscout24.com//offers/mercedes-benz-viano-trend-lang-2-0-cdi-diesel-grey-7fa6b3d9-d784-4f29-a745-4c6883c81f8b',\n",
       " 'https://www.autoscout24.com//offers/fiat-doblo-arrivo-kombi-maxi-sx-1-6-105-ps-diesel-grey-0ca55a92-8dbc-4711-b8d0-512cae49914d',\n",
       " 'https://www.autoscout24.com//offers/bmw-520-d-xdrive-diesel-blue-c74ba526-99af-4d1c-aee8-de2e16f1ba65',\n",
       " 'https://www.autoscout24.com//offers/nissan-nv400-l2h2-2-3dci-125-3-5t-comfort-mwst-erstbesitz-blue-diesel-white-6e0f17ad-2911-4a00-8d3c-017f703cd24a',\n",
       " 'https://www.autoscout24.com//offers/hyundai-i20-1-25-level-2-plus-gasoline-blue-c767835d-903c-4945-9f2a-e514dfbffd12',\n",
       " 'https://www.autoscout24.com//offers/ford-kuga-ford-2-0-titanium-4x4-tdci-dpf-diesel-white-389faec0-96a1-4ed2-87df-3c15ea5e894e',\n",
       " 'https://www.autoscout24.com//offers/mazda-cx-5-cd150-awd-revolution-diesel-red-b4729be0-87bf-44f4-8478-61b521b32a17',\n",
       " 'https://www.autoscout24.com//offers/volkswagen-passat-variant-scr-highline-tdi-4motion-dsg-diesel-black-554b4199-44d5-6b28-e053-e250040ae4f5',\n",
       " 'https://www.autoscout24.com//offers/nissan-qashqai-1-6d-n-connecta-diesel-silver-221bce94-023d-4b76-8c75-5fb3502c4862',\n",
       " 'https://www.autoscout24.com//offers/kia-pro-cee-d-proceed-pro-ceed-1-6-crdi-scr-gt-line-oeet-diesel-blue-93411a80-4b24-4031-8712-1b4ff7cdc31b',\n",
       " 'https://www.autoscout24.com//offers/volkswagen-touran-sky-tdi-scr-dsg-5-sitzer-diesel-grey-2f2367a4-05c0-4200-8059-f4cc7f82701f',\n",
       " 'https://www.autoscout24.com//offers/mercedes-benz-c-220-d-comand-distronic-led-navi-kamera-diesel-green-89fea789-a136-444a-8052-11c9f369ee47',\n",
       " 'https://www.autoscout24.com//offers/opel-meriva-1-4-16v-cosmo-gasoline-white-5499f99b-8f96-b76c-e053-e250040a6fd2',\n",
       " 'https://www.autoscout24.com//offers/audi-a4-avant-2-0-tdi-dpf-pano-s-line-xenon-navi-diesel-white-915929c2-f8db-4d77-b7ff-df73b5bdceb6',\n",
       " 'https://www.autoscout24.com//offers/dacia-duster-prestige-blue-dci-115-s-s-4wd-diesel-orange-eb68a19c-a738-4561-9f3a-ba7b08e4b1be',\n",
       " 'https://www.autoscout24.com//offers/volkswagen-passat-variant-highline-2-0-tdi-scr-diesel-black-e36f907b-2b60-4b83-895c-65b88c2f22ff',\n",
       " 'https://www.autoscout24.com//offers/volkswagen-caddy-maxi-kombi-tdi-diesel-white-9f6cb455-3ab9-468f-b1c4-ee98c0e5ce9d',\n",
       " 'https://www.autoscout24.com//offers/kia-cee-d-ceed-1-4-mpi-titan-gasoline-grey-1cb71435-488a-4fff-b4e6-1b5402c1a31b',\n",
       " 'https://www.autoscout24.com//offers/ford-focus-1-5-tdci-trend-diesel-white-efa7d502-be7c-49e6-8345-d50b43b7d0bc',\n",
       " 'https://www.autoscout24.com//offers/honda-civic-2-2-i-ctdi-executive-diesel-black-024dcd91-3ce7-4224-e053-e250040a1817',\n",
       " 'https://www.autoscout24.com//offers/bmw-535-v8-e39-tausch-moeglich-gasoline-silver-daf3ed9b-7dc6-113b-e053-e250040a613d',\n",
       " 'https://www.autoscout24.com//offers/ford-focus-st-line-trav-1-0-eboost-125ps-m6-gasoline-black-c29f7157-ca25-47a0-b29e-f1b7909bde41',\n",
       " 'https://www.autoscout24.com//offers/seat-ibiza-formula-race-1-2-tsi-gasoline-white-52e3105d-a02e-4b1e-b0ad-b68f563e9b3b',\n",
       " 'https://www.autoscout24.com//offers/opel-astra-5-tuerer-120-jahre-diesel-grey-8ab9ada1-f377-4558-8489-ad07c2ec5c9f',\n",
       " 'https://www.autoscout24.com//offers/bmw-x5-3-0d-aut-diesel-grey-64f34c93-288b-cd1b-e053-e250040a73f3',\n",
       " 'https://www.autoscout24.com//offers/seat-alhambra-family-2-0-tdi-cr-dpf-diesel-silver-f42f149a-752f-7e45-e053-e250040a1e58',\n",
       " 'https://www.autoscout24.com//offers/volkswagen-touareg-edition-tdi-scr-4motion-diesel-grey-e4853a98-a928-4446-b3fe-3708aa8b84fa',\n",
       " 'https://www.autoscout24.com//offers/ford-galaxy-2-0-ecoblue-trend-5-sitzer-diesel-silver-c9e4eb15-c7d8-4ae7-9b38-9426425cc789',\n",
       " 'https://www.autoscout24.com//offers/ford-transit-courier-1-0-ecoboost-trend-l1h1-gasoline-blue-c12e7bd2-d223-4558-badc-71bb5c4080fe',\n",
       " 'https://www.autoscout24.com//offers/volkswagen-caddy-trendline-tdi-diesel-grey-848c2843-3746-4ecc-8a61-bf9bdb41a9dc',\n",
       " 'https://www.autoscout24.com//offers/bmw-525-5er-reihe-kombi-diesel-touring-aut-finanzierung-diesel-grey-e5601597-47c9-4d77-e053-e250040ad0c7',\n",
       " 'https://www.autoscout24.com//offers/kia-xceed-1-6-crdi-scr-silber-mt6-116-isg-diesel-white-69004d9c-a73f-42c9-8ec9-0388d8e73f88',\n",
       " 'https://www.autoscout24.com//offers/volkswagen-sharan-comfortline-bmt-2-0-tdi-dpf-diesel-black-f928789b-1544-0937-e053-e250040a6b6a',\n",
       " 'https://www.autoscout24.com//offers/bmw-x3-xdrive-20d-m-sport-aut-diesel-white-59c12c4d-5066-463e-acaf-28e821341a20',\n",
       " 'https://www.autoscout24.com//offers/volkswagen-touran-1-6-tdi-dsg-7-sitze-navi-alcantara-shz-pdc-diesel-silver-27a23f2a-3ecf-44f9-8bcd-63edc0c1617e',\n",
       " 'https://www.autoscout24.com//offers/mercedes-benz-200-diesel-beige-9a316e9a-e579-320f-e053-e250040a4c12',\n",
       " 'https://www.autoscout24.com//offers/volkswagen-t5-doka-pritsche-4-motion-diesel-red-88dd2c02-1ca8-46d9-bf43-2bf25e249aec',\n",
       " 'https://www.autoscout24.com//offers/mercedes-benz-gla-180-off-roader-spur-p-night-led-navi-kamera-b-gasoline-silver-dd04a7f5-b863-4ed2-b7c5-76d98ad3bbb8',\n",
       " 'https://www.autoscout24.com//offers/ford-f-150-xlt-supercab-gunmetal-edition-neu-gasoline-grey-bb18ca0b-94ed-483a-ad8d-e6de9fc46ebd',\n",
       " 'https://www.autoscout24.com//offers/suzuki-jimny-1-5-vvt-allgrip-flash-cabrio-gasoline-white-c45c0c96-76d3-42b4-bec2-523e7303383d',\n",
       " 'https://www.autoscout24.com//offers/peugeot-208-act-pt-68-5t-gasoline-red-f5dab8c5-4c5d-4cef-b8c4-dd47876e68c2',\n",
       " 'https://www.autoscout24.com//offers/volkswagen-sharan-bus-tdi-scr-4motion-dsg-7-sitzer-diesel-silver-0a1e4721-5557-4b89-847d-7d01bc3e3187',\n",
       " 'https://www.autoscout24.com//offers/renault-kangoo-expression-1-5-dci-dpf-diesel-white-a2d01bf4-fd57-46c2-8959-e43bb61dc6d6',\n",
       " 'https://www.autoscout24.com//offers/bmw-320-3er-reihe-coupe-diesel-e92-coupe-diesel-white-6ae7c89b-3455-8326-e053-e250040ae95b',\n",
       " 'https://www.autoscout24.com//offers/volkswagen-golf-rabbit-1-6tdi-komfortpaket-diesel-silver-a41810fe-2e97-4a9a-9567-6663453e3378',\n",
       " 'https://www.autoscout24.com//offers/peugeot-expert-premium-kasten-l2h1-2-0-bluehdi-120-diesel-white-fe4a54cf-b736-4171-ac2d-5727cc79dde4',\n",
       " 'https://www.autoscout24.com//offers/mercedes-benz-glc-250-4matic-aut-allrad-leder-automatik-ahk-spo-gasoline-blue-9dbfd5f0-5764-48c9-84a8-6db57a3cacca',\n",
       " 'https://www.autoscout24.com//offers/nissan-qashqai-1-5-dci-acenta-mit-navi-diesel-red-0ea16e04-6bad-457a-a80c-3143e26dc272',\n",
       " 'https://www.autoscout24.com//offers/fiat-500-1-2-fire-70-sport-gasoline-blue-45a9d370-885a-4fb1-87c9-a2ea80f0c7b6',\n",
       " 'https://www.autoscout24.com//offers/suzuki-vitara-1-4-ditc-4wd-shine-10-stueck-lagernd-gasoline-yellow-f5944c23-281e-42cb-992e-9980cde38750',\n",
       " 'https://www.autoscout24.com//offers/volkswagen-passat-variant-tl-2-0-tdi-navi-radar-shz-wenig-km-diesel-silver-ba59890c-d945-4249-8a82-85344deec59d',\n",
       " 'https://www.autoscout24.com//offers/skoda-octavia-combi-2-0-tsi-dsg-scout-4x4-ahk-leder-alcantara-gasoline-silver-5969422d-f4f5-4598-a150-e2820d10a43c',\n",
       " 'https://www.autoscout24.com//offers/volkswagen-passat-variant-cl-1-6-tdi-dsg-navi-radar-sd-shz-megapreis-diesel-red-7e3c6fbc-825a-4d59-88ef-5a06eb79b9a7',\n",
       " 'https://www.autoscout24.com//offers/ford-focus-traveller-1-5-ecoblue-titanium-business-diesel-black-180c85c4-f25b-4c88-9209-d4de37ac7d16',\n",
       " 'https://www.autoscout24.com//offers/peugeot-508-2-0-bluehdi-180-eat8-s-s-gt-line-diesel-white-9282f78f-97bc-4203-98e2-eb504310b691',\n",
       " 'https://www.autoscout24.com//offers/nissan-x-trail-tekna-1-7-dci-150-ps-6mt-4x4-5-sitze-pgd-t-diesel-black-b383bf92-4d12-47d2-9a5d-334da3aec407',\n",
       " 'https://www.autoscout24.com//offers/mazda-cx-30-g122-comfort-so-st-gasoline-grey-0820eeab-926b-4770-9e11-701b74de9a5d',\n",
       " 'https://www.autoscout24.com//offers/audi-q3-2-0-tfsi-quattro-gasoline-silver-2b3f9a96-eab0-f036-e053-e250040ab6be',\n",
       " 'https://www.autoscout24.com//offers/volkswagen-passat-comfortline-bmt-1-6-tdi-diesel-white-dcfda801-cc84-4f3f-9e62-8526e314aa9c',\n",
       " 'https://www.autoscout24.com//offers/jaguar-mk-ii-original-gasoline-silver-e4745b83-d3de-a855-e053-e250040a6847',\n",
       " 'https://www.autoscout24.com//offers/volkswagen-sharan-sky-bmt-2-0-tdi-dpf-4motion-diesel-brown-e1d0a14a-cfdc-4235-baf6-197a5d3ec1c2',\n",
       " 'https://www.autoscout24.com//offers/opel-grandland-x-1-2-turbo-direct-injection-innovation-start-stop-gasoline-black-9605d559-f15b-4006-b390-d756d77ef99c',\n",
       " 'https://www.autoscout24.com//offers/volkswagen-passat-variant-comfortline-bmt-1-6-tdi-diesel-silver-6745b398-4c14-c303-e053-e250040a2339',\n",
       " 'https://www.autoscout24.com//offers/opel-zafira-1-9-cdti-diesel-black-21a5db91-9d7b-6736-e053-e250040ad707',\n",
       " 'https://www.autoscout24.com//offers/hyundai-kona-1-0-t-gdi-2wd-level-3-gasoline-blue-d914f917-af50-4fd0-8492-e6cb3450a70a',\n",
       " 'https://www.autoscout24.com//offers/mazda-cx-5-cd175-awd-revolution-top-diesel-red-3fe19dfc-db01-419c-aa1f-cf7eaf9c6843',\n",
       " 'https://www.autoscout24.com//offers/mercedes-benz-c-200-t-cdi-avantgarde-amg-paket-diesel-black-ef38f394-8d40-8942-e053-e250040ac46f',\n",
       " 'https://www.autoscout24.com//offers/skoda-fabia-monte-carlo-tsi-gasoline-grey-98076160-bafd-428b-8d9b-0033265ec7f1',\n",
       " 'https://www.autoscout24.com//offers/audi-a4-b8-sline-diesel-black-86647794-9c3c-e712-e053-e250040ad39d',\n",
       " 'https://www.autoscout24.com//offers/seat-toledo-1-9-tdi-fresh-diesel-grey-00b51192-ac8b-2d08-e053-e250040ac4e6',\n",
       " 'https://www.autoscout24.com//offers/land-rover-diesel-blue-8b867a2e-9d65-4061-8ed8-0abf6b4d9535',\n",
       " 'https://www.autoscout24.com//offers/audi-a6-2-0-tdi-ultra-s-tronic-diesel-white-b0383999-11cd-46c6-9204-fecf7c2cabab',\n",
       " 'https://www.autoscout24.com//offers/mercedes-benz-cla-200-d-shooting-brake-diesel-black-6feea49b-4f78-4b1d-b8ff-dbd9912e1c3e',\n",
       " 'https://www.autoscout24.com//offers/ford-c-max-easy-1-0-ecoboost-gasoline-white-fa641e44-2fd0-4874-9371-e126cb2becfe',\n",
       " 'https://www.autoscout24.com//offers/volkswagen-sharan-2-0-tdi-dsg-bluemotion-technology-trendline-diesel-blue-9af51a95-d8f4-ff3c-e053-e250040a3e26',\n",
       " 'https://www.autoscout24.com//offers/mercedes-benz-b-180-d-7g-dct-urban-pano-dach-led-navi-kamera-au-diesel-silver-9b752856-2228-4a7b-a4d2-d49f222f3b08',\n",
       " 'https://www.autoscout24.com//offers/audi-a4-1-9-tdi-diesel-red-2031a19b-36ad-677b-e053-e250040af274',\n",
       " 'https://www.autoscout24.com//offers/citroen-c4-grand-picasso-1-6-diesel-diesel-white-32470fdf-1491-4994-b8fb-370bbbb2ac56',\n",
       " 'https://www.autoscout24.com//offers/mazda-2-cd68-plusline-diesel-grey-fda9d0ba-349e-47c9-baae-1faaabc9acb3',\n",
       " 'https://www.autoscout24.com//offers/audi-q7-3-0-tdi-quattro-clean-diesel-dpf-tiptronic-s-line-diesel-black-1a65dbcc-62c8-4834-820c-6df9a3eb8ebd',\n",
       " 'https://www.autoscout24.com//offers/ford-ecosport-1-0-ecoboost-trendline-5-jahre-garantieklimaaut-gasoline-white-a2e2feb8-8911-4cd9-bda3-437d7d965d5f',\n",
       " 'https://www.autoscout24.com//offers/mercedes-benz-s-600-l-aut-lorinser-gasoline-black-d1f25b65-e895-48e2-acea-94ca6b924428',\n",
       " 'https://www.autoscout24.com//offers/bmw-116-1er-reihe-e81-oesterreich-paket-gasoline-white-b3e99a49-2978-4d3e-829b-c18c5c7ac307',\n",
       " 'https://www.autoscout24.com//offers/fiat-500x-cross-120-ps-t3-gasoline-green-b3d2c664-442d-492b-9ec1-31a7dfef625e',\n",
       " 'https://www.autoscout24.com//offers/volkswagen-golf-style-neues-modell-8-1-5-tsi-act-110kw-150ps-gasoline-white-3d92c8c4-6a9d-475c-a937-3c781523fb31',\n",
       " 'https://www.autoscout24.com//offers/volkswagen-golf-plus-trendline-1-9-tdi-dpf-diesel-grey-b58d760f-3bce-4100-a506-db68d1418486',\n",
       " 'https://www.autoscout24.com//offers/mitsubishi-colt-5dr-1-1-mpi-austria-edition-gasoline-red-7305f6b8-b132-48d7-bc93-1a36aea4ec7f',\n",
       " 'https://www.autoscout24.com//offers/kia-cee-d-sportswagon-ceed-sw-1-6-crdi-isg-motion-klimaautomatik-diesel-grey-cb3d6194-b410-1362-e053-e250040a5a28',\n",
       " 'https://www.autoscout24.com//offers/mercedes-benz-e-220-d-aut-coupe-widescreen-amg-pandach-20-n-diesel-white-b6c3b2ed-abb3-41f9-b84b-e8f835ab32e0',\n",
       " 'https://www.autoscout24.com//offers/audi-a5-sb-2-0-tfsi-quattro-sport-s-tronic-gasoline-grey-5d2cfdf1-8698-4b0b-996a-3c02af099d84',\n",
       " 'https://www.autoscout24.com//offers/ford-galaxy-titanium-2-0l-eblue-150ps-a8-diesel-white-f34918cb-b85c-49d9-890f-f69b8422a30a',\n",
       " 'https://www.autoscout24.com//offers/opel-mokka-opel-x-utimate-1-4-4wd-gasoline-silver-b1c31283-76cc-4150-8c4e-1613295c3c91',\n",
       " 'https://www.autoscout24.com//offers/volkswagen-t1-westfalia-camper-oesterreichische-auslieferung-gasoline-green-c71bd132-0514-44df-968c-3d6ec275703c',\n",
       " 'https://www.autoscout24.com//offers/volkswagen-golf-r32-4motion-dsg-gasoline-black-81a38d9a-2083-a145-e053-e250040ad899',\n",
       " 'https://www.autoscout24.com//offers/fiat-talento-kw-sx-30-l2h1-120-diesel-white-3941368f-b60d-49f2-8d1d-2a9b338dd52d',\n",
       " 'https://www.autoscout24.com//offers/fiat-panda-twinair-85-4x4-wild-summit-gasoline-orange-8b9aa05b-3de9-4d7f-aeaa-6d8ba58d42b5']"
      ]
     },
     "execution_count": 83,
     "metadata": {},
     "output_type": "execute_result"
    }
   ],
   "source": [
    "DF"
   ]
  },
  {
   "cell_type": "code",
   "execution_count": 84,
   "metadata": {},
   "outputs": [
    {
     "data": {
      "text/plain": [
       "97"
      ]
     },
     "execution_count": 84,
     "metadata": {},
     "output_type": "execute_result"
    }
   ],
   "source": [
    "len(DF)"
   ]
  },
  {
   "cell_type": "markdown",
   "metadata": {},
   "source": [
    "## Scraping"
   ]
  },
  {
   "cell_type": "markdown",
   "metadata": {},
   "source": [
    "Nmboflinks defines the final number of links that have to be scrapped."
   ]
  },
  {
   "cell_type": "code",
   "execution_count": 88,
   "metadata": {},
   "outputs": [],
   "source": [
    "nmbroflinks=100"
   ]
  },
  {
   "cell_type": "markdown",
   "metadata": {},
   "source": [
    "Grouplen defines the number of links that are scraped within one loop."
   ]
  },
  {
   "cell_type": "code",
   "execution_count": 89,
   "metadata": {},
   "outputs": [],
   "source": [
    "grouplen=len(DF)"
   ]
  },
  {
   "cell_type": "code",
   "execution_count": 90,
   "metadata": {
    "scrolled": false
   },
   "outputs": [
    {
     "name": "stdout",
     "output_type": "stream",
     "text": [
      "97\n",
      "426.81661558151245\n"
     ]
    }
   ],
   "source": [
    "start= time.time()\n",
    "tracker=0\n",
    "\n",
    "database = 'info13.1.2020.db'\n",
    "connection = sql.connect(database)\n",
    "l = []\n",
    "links=DF\n",
    "for link in links[0:nmbroflinks]: \n",
    "            Features=getAllFeatures(link)\n",
    "            Values=getAllValues(link)\n",
    "            Title=getTitle(link)\n",
    "            Price=getPrice(link) \n",
    "            Primaryspecs=getPrimaryspecs(link)\n",
    "            Primaryspecs2=getPrimaryspecs2(link) \n",
    "            d = {\n",
    "            'link':link,\n",
    "            'Title':Title,\n",
    "            'Price':Price,\n",
    "            'km':Primaryspecs[0],\n",
    "            'Zustand':Primaryspecs[1],\n",
    "            'Registration date':Primaryspecs[2],\n",
    "            'kW':Primaryspecs[3],\n",
    "            'kW':Primaryspecs2[0],\n",
    "            'hp': Primaryspecs2[1],\n",
    "            'transmission': Primaryspecs2[2],\n",
    "            'Ffuel': Primaryspecs2[2],\n",
    "            Features[0]:Values[0],\n",
    "            Features[1]:Values[1],\n",
    "            Features[2]:Values[2],\n",
    "            Features[3]:Values[3],\n",
    "            Features[4]:Values[4],\n",
    "            Features[5]:Values[5], \n",
    "            \n",
    "            }\n",
    "            l.append(d)\n",
    "            tracker = tracker +1\n",
    "            \n",
    "            if tracker % grouplen == 0:\n",
    "                    info1 =pd.DataFrame(l)\n",
    "                    info1.to_sql('info.43', connection, if_exists='append')\n",
    "                    l = []\n",
    "            time.sleep(1)\n",
    "                    \n",
    "            \n",
    "\n",
    "print(tracker)           \n",
    "end=time.time()            \n",
    "print(end - start)\n",
    "\n",
    " \n",
    "\n",
    "           \n",
    "\n",
    "\n",
    "\n",
    "\n",
    "\n"
   ]
  },
  {
   "cell_type": "code",
   "execution_count": null,
   "metadata": {},
   "outputs": [],
   "source": [
    "tracker\n"
   ]
  },
  {
   "cell_type": "code",
   "execution_count": null,
   "metadata": {},
   "outputs": [],
   "source": []
  },
  {
   "cell_type": "code",
   "execution_count": null,
   "metadata": {},
   "outputs": [],
   "source": []
  },
  {
   "cell_type": "code",
   "execution_count": null,
   "metadata": {},
   "outputs": [],
   "source": []
  },
  {
   "cell_type": "code",
   "execution_count": null,
   "metadata": {},
   "outputs": [],
   "source": []
  },
  {
   "cell_type": "code",
   "execution_count": null,
   "metadata": {},
   "outputs": [],
   "source": []
  },
  {
   "cell_type": "code",
   "execution_count": null,
   "metadata": {},
   "outputs": [],
   "source": []
  },
  {
   "cell_type": "code",
   "execution_count": null,
   "metadata": {},
   "outputs": [],
   "source": []
  },
  {
   "cell_type": "code",
   "execution_count": null,
   "metadata": {},
   "outputs": [],
   "source": []
  },
  {
   "cell_type": "code",
   "execution_count": null,
   "metadata": {},
   "outputs": [],
   "source": []
  },
  {
   "cell_type": "code",
   "execution_count": null,
   "metadata": {},
   "outputs": [],
   "source": []
  },
  {
   "cell_type": "code",
   "execution_count": null,
   "metadata": {},
   "outputs": [],
   "source": []
  },
  {
   "cell_type": "code",
   "execution_count": null,
   "metadata": {},
   "outputs": [],
   "source": []
  },
  {
   "cell_type": "code",
   "execution_count": null,
   "metadata": {},
   "outputs": [],
   "source": []
  },
  {
   "cell_type": "code",
   "execution_count": null,
   "metadata": {},
   "outputs": [],
   "source": []
  },
  {
   "cell_type": "code",
   "execution_count": null,
   "metadata": {},
   "outputs": [],
   "source": []
  },
  {
   "cell_type": "code",
   "execution_count": null,
   "metadata": {},
   "outputs": [],
   "source": []
  },
  {
   "cell_type": "code",
   "execution_count": null,
   "metadata": {},
   "outputs": [],
   "source": []
  },
  {
   "cell_type": "code",
   "execution_count": null,
   "metadata": {},
   "outputs": [],
   "source": []
  },
  {
   "cell_type": "code",
   "execution_count": null,
   "metadata": {},
   "outputs": [],
   "source": []
  },
  {
   "cell_type": "code",
   "execution_count": null,
   "metadata": {},
   "outputs": [],
   "source": []
  },
  {
   "cell_type": "code",
   "execution_count": null,
   "metadata": {},
   "outputs": [],
   "source": []
  },
  {
   "cell_type": "code",
   "execution_count": null,
   "metadata": {},
   "outputs": [],
   "source": []
  },
  {
   "cell_type": "code",
   "execution_count": null,
   "metadata": {},
   "outputs": [],
   "source": []
  },
  {
   "cell_type": "code",
   "execution_count": null,
   "metadata": {
    "scrolled": false
   },
   "outputs": [],
   "source": [
    "start= time.time()\n",
    "tracker=0\n",
    "\n",
    "database = 'info13.1.2020.db'\n",
    "connection = sql.connect(database)\n",
    "l = []\n",
    "links=df\n",
    "for link in links[41:50]: \n",
    "            Features=getAllFeatures(link)\n",
    "            Values=getAllValues(link)\n",
    "            Title=getTitle(link)\n",
    "            Price=getPrice(link) \n",
    "            Primaryspecs=getPrimaryspecs(link)\n",
    "            Primaryspecs2=getPrimaryspecs2(link) \n",
    "            d = {\n",
    "            'link':link,\n",
    "            'Title':Title,\n",
    "            'Price':Price,\n",
    "            'km':Primaryspecs[0],\n",
    "            'Zustand':Primaryspecs[1],\n",
    "            'Registration date':Primaryspecs[2],\n",
    "            'kW':Primaryspecs[3],\n",
    "            'kW':Primaryspecs2[0],\n",
    "            'hp': Primaryspecs2[1],\n",
    "            'transmission': Primaryspecs2[2],\n",
    "            'Ffuel': Primaryspecs2[2],\n",
    "            Features[0]:Values[0],\n",
    "            Features[1]:Values[1],\n",
    "            Features[2]:Values[2],\n",
    "            Features[3]:Values[3],\n",
    "            Features[4]:Values[4],\n",
    "            Features[5]:Values[5],\n",
    "            Features[6]:Values[6],   \n",
    "            Features[7]:Values[7],\n",
    "            Features[8]:Values[8],    \n",
    "      \n",
    "\n",
    "           \n",
    "            }\n",
    "            l.append(d)\n",
    "            tracker = tracker +1\n",
    "            l\n",
    "            info1 =pd.DataFrame(l)\n",
    "                    \n",
    "            \n",
    "\n",
    "print(tracker)           \n",
    "end=time.time()            \n",
    "print(end - start)\n",
    "\n",
    "print(info1)\n",
    "print(l) \n",
    "\n",
    "           \n",
    "\n",
    "\n",
    "\n",
    "\n",
    "\n"
   ]
  },
  {
   "cell_type": "code",
   "execution_count": null,
   "metadata": {},
   "outputs": [],
   "source": []
  },
  {
   "cell_type": "code",
   "execution_count": null,
   "metadata": {},
   "outputs": [],
   "source": []
  },
  {
   "cell_type": "code",
   "execution_count": null,
   "metadata": {},
   "outputs": [],
   "source": []
  }
 ],
 "metadata": {
  "kernelspec": {
   "display_name": "Python 3",
   "language": "python",
   "name": "python3"
  },
  "language_info": {
   "codemirror_mode": {
    "name": "ipython",
    "version": 3
   },
   "file_extension": ".py",
   "mimetype": "text/x-python",
   "name": "python",
   "nbconvert_exporter": "python",
   "pygments_lexer": "ipython3",
   "version": "3.7.4"
  }
 },
 "nbformat": 4,
 "nbformat_minor": 2
}
