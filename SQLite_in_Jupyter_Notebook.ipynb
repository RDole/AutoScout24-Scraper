{
 "cells": [
  {
   "cell_type": "code",
   "execution_count": 1,
   "metadata": {},
   "outputs": [],
   "source": [
    "import sqlite3 as sql\n",
    "import pandas as pd"
   ]
  },
  {
   "cell_type": "code",
   "execution_count": 11,
   "metadata": {},
   "outputs": [],
   "source": [
    "database = 'sqlPokus2.db'\n",
    "connection = sql.connect(database)"
   ]
  },
  {
   "cell_type": "code",
   "execution_count": 10,
   "metadata": {},
   "outputs": [],
   "source": [
    "query = '''SELECT * from carstest'''"
   ]
  },
  {
   "cell_type": "markdown",
   "metadata": {},
   "source": [
    "df = pd.read_sql_query(query, connection)"
   ]
  },
  {
   "cell_type": "code",
   "execution_count": null,
   "metadata": {},
   "outputs": [],
   "source": []
  },
  {
   "cell_type": "code",
   "execution_count": null,
   "metadata": {},
   "outputs": [],
   "source": []
  },
  {
   "cell_type": "markdown",
   "metadata": {},
   "source": [
    "### This works! It creates a connection btw what we created in Python and what we want to store in SQL"
   ]
  },
  {
   "cell_type": "code",
   "execution_count": 13,
   "metadata": {
    "scrolled": true
   },
   "outputs": [],
   "source": [
    "database = 'secondtestdatabase.db'\n",
    "connection = sql.connect(database)"
   ]
  },
  {
   "cell_type": "code",
   "execution_count": 24,
   "metadata": {},
   "outputs": [],
   "source": [
    "x=pd.DataFrame([[5,8],[0, 3], [1, 11]])\n"
   ]
  },
  {
   "cell_type": "markdown",
   "metadata": {},
   "source": [
    "x.to_sql('mynewname4', connection)"
   ]
  },
  {
   "cell_type": "code",
   "execution_count": null,
   "metadata": {},
   "outputs": [],
   "source": []
  },
  {
   "cell_type": "markdown",
   "metadata": {},
   "source": [
    "What more we want is to include our new data to the table we have already created for to store the previous data. Or: find an easy way to merge the tables."
   ]
  },
  {
   "cell_type": "code",
   "execution_count": 25,
   "metadata": {},
   "outputs": [],
   "source": [
    "x.to_sql('mynewname4', connection, if_exists='append')"
   ]
  },
  {
   "cell_type": "code",
   "execution_count": null,
   "metadata": {},
   "outputs": [],
   "source": []
  },
  {
   "cell_type": "code",
   "execution_count": null,
   "metadata": {},
   "outputs": [],
   "source": []
  },
  {
   "cell_type": "markdown",
   "metadata": {},
   "source": [
    "### Now back. We want to see what we have stored in SQL. "
   ]
  },
  {
   "cell_type": "code",
   "execution_count": 41,
   "metadata": {},
   "outputs": [],
   "source": [
    "database = 'secondtestdatabase.db'\n",
    "connection = sql.connect(database)"
   ]
  },
  {
   "cell_type": "code",
   "execution_count": 43,
   "metadata": {},
   "outputs": [],
   "source": [
    "df = pd.read_sql_query('''SELECT * from mynewname4''', connection)"
   ]
  },
  {
   "cell_type": "code",
   "execution_count": 44,
   "metadata": {
    "scrolled": true
   },
   "outputs": [
    {
     "data": {
      "text/html": [
       "<div>\n",
       "<style scoped>\n",
       "    .dataframe tbody tr th:only-of-type {\n",
       "        vertical-align: middle;\n",
       "    }\n",
       "\n",
       "    .dataframe tbody tr th {\n",
       "        vertical-align: top;\n",
       "    }\n",
       "\n",
       "    .dataframe thead th {\n",
       "        text-align: right;\n",
       "    }\n",
       "</style>\n",
       "<table border=\"1\" class=\"dataframe\">\n",
       "  <thead>\n",
       "    <tr style=\"text-align: right;\">\n",
       "      <th></th>\n",
       "      <th>index</th>\n",
       "      <th>0</th>\n",
       "      <th>1</th>\n",
       "    </tr>\n",
       "  </thead>\n",
       "  <tbody>\n",
       "    <tr>\n",
       "      <td>0</td>\n",
       "      <td>0</td>\n",
       "      <td>2</td>\n",
       "      <td>2</td>\n",
       "    </tr>\n",
       "    <tr>\n",
       "      <td>1</td>\n",
       "      <td>1</td>\n",
       "      <td>5</td>\n",
       "      <td>3</td>\n",
       "    </tr>\n",
       "    <tr>\n",
       "      <td>2</td>\n",
       "      <td>2</td>\n",
       "      <td>3</td>\n",
       "      <td>5</td>\n",
       "    </tr>\n",
       "    <tr>\n",
       "      <td>3</td>\n",
       "      <td>0</td>\n",
       "      <td>2</td>\n",
       "      <td>2</td>\n",
       "    </tr>\n",
       "    <tr>\n",
       "      <td>4</td>\n",
       "      <td>1</td>\n",
       "      <td>5</td>\n",
       "      <td>3</td>\n",
       "    </tr>\n",
       "    <tr>\n",
       "      <td>5</td>\n",
       "      <td>2</td>\n",
       "      <td>3</td>\n",
       "      <td>5</td>\n",
       "    </tr>\n",
       "    <tr>\n",
       "      <td>6</td>\n",
       "      <td>0</td>\n",
       "      <td>2</td>\n",
       "      <td>2</td>\n",
       "    </tr>\n",
       "    <tr>\n",
       "      <td>7</td>\n",
       "      <td>1</td>\n",
       "      <td>5</td>\n",
       "      <td>3</td>\n",
       "    </tr>\n",
       "    <tr>\n",
       "      <td>8</td>\n",
       "      <td>2</td>\n",
       "      <td>3</td>\n",
       "      <td>5</td>\n",
       "    </tr>\n",
       "    <tr>\n",
       "      <td>9</td>\n",
       "      <td>0</td>\n",
       "      <td>88</td>\n",
       "      <td>88</td>\n",
       "    </tr>\n",
       "    <tr>\n",
       "      <td>10</td>\n",
       "      <td>1</td>\n",
       "      <td>5</td>\n",
       "      <td>3</td>\n",
       "    </tr>\n",
       "    <tr>\n",
       "      <td>11</td>\n",
       "      <td>2</td>\n",
       "      <td>3</td>\n",
       "      <td>5</td>\n",
       "    </tr>\n",
       "    <tr>\n",
       "      <td>12</td>\n",
       "      <td>0</td>\n",
       "      <td>5</td>\n",
       "      <td>8</td>\n",
       "    </tr>\n",
       "    <tr>\n",
       "      <td>13</td>\n",
       "      <td>1</td>\n",
       "      <td>0</td>\n",
       "      <td>3</td>\n",
       "    </tr>\n",
       "    <tr>\n",
       "      <td>14</td>\n",
       "      <td>2</td>\n",
       "      <td>1</td>\n",
       "      <td>11</td>\n",
       "    </tr>\n",
       "  </tbody>\n",
       "</table>\n",
       "</div>"
      ],
      "text/plain": [
       "    index   0   1\n",
       "0       0   2   2\n",
       "1       1   5   3\n",
       "2       2   3   5\n",
       "3       0   2   2\n",
       "4       1   5   3\n",
       "5       2   3   5\n",
       "6       0   2   2\n",
       "7       1   5   3\n",
       "8       2   3   5\n",
       "9       0  88  88\n",
       "10      1   5   3\n",
       "11      2   3   5\n",
       "12      0   5   8\n",
       "13      1   0   3\n",
       "14      2   1  11"
      ]
     },
     "execution_count": 44,
     "metadata": {},
     "output_type": "execute_result"
    }
   ],
   "source": [
    "df"
   ]
  },
  {
   "cell_type": "code",
   "execution_count": 45,
   "metadata": {
    "scrolled": true
   },
   "outputs": [
    {
     "data": {
      "text/plain": [
       "15"
      ]
     },
     "execution_count": 45,
     "metadata": {},
     "output_type": "execute_result"
    }
   ],
   "source": [
    "len(df)"
   ]
  },
  {
   "cell_type": "markdown",
   "metadata": {},
   "source": [
    "# THE END"
   ]
  },
  {
   "cell_type": "code",
   "execution_count": null,
   "metadata": {},
   "outputs": [],
   "source": []
  },
  {
   "cell_type": "code",
   "execution_count": null,
   "metadata": {},
   "outputs": [],
   "source": []
  },
  {
   "cell_type": "markdown",
   "metadata": {},
   "source": [
    "### TRY\n",
    "This test whether it works for one link "
   ]
  },
  {
   "cell_type": "code",
   "execution_count": 55,
   "metadata": {},
   "outputs": [],
   "source": [
    "from bs4 import BeautifulSoup\n",
    "import math\n",
    "import tqdm\n",
    "import json\n",
    "import pandas as pd\n",
    "import datetime\n",
    "import time\n",
    "\n",
    "import requests\n",
    "from bs4 import BeautifulSoup\n",
    "import pandas as pd\n",
    "import time\n",
    "from IPython.core.debugger import Tracer"
   ]
  },
  {
   "cell_type": "code",
   "execution_count": 56,
   "metadata": {},
   "outputs": [],
   "source": [
    "def getSoup(link):\n",
    "    r = requests.get(link)\n",
    "    r.encoding = 'UTF-8'\n",
    "    return BeautifulSoup(r.text,'lxml')"
   ]
  },
  {
   "cell_type": "code",
   "execution_count": 59,
   "metadata": {},
   "outputs": [
    {
     "data": {
      "text/plain": [
       "['Zustand',\n",
       " 'Fahrzeughalter',\n",
       " 'HU/AU neu',\n",
       " 'Garantie',\n",
       " 'Scheckheftgepflegt',\n",
       " 'Nichtraucherfahrzeug',\n",
       " 'Marke',\n",
       " 'Modell',\n",
       " 'Angebotsnummer',\n",
       " 'Erstzulassung',\n",
       " 'Außenfarbe',\n",
       " 'Lackierung',\n",
       " 'Farbe laut Hersteller',\n",
       " 'Innenausstattung',\n",
       " 'Karosserieform',\n",
       " 'Anzahl Türen',\n",
       " 'Sitzplätze',\n",
       " 'Schlüsselnummer',\n",
       " 'Länderversion',\n",
       " 'Getriebeart',\n",
       " 'Hubraum',\n",
       " 'Leergewicht',\n",
       " 'Antriebsart',\n",
       " 'Kraftstoff',\n",
       " 'KraftstoffverbrauchWeitere Informationen zum offiziellen Kraftstoffverbrauch und den offiziellen spezifischen CO2-Emissionen neuer Personenkraftwagen können dem \"Leitfaden über den Kraftstoffverbrauch, die CO2-Emissionen und den Stromverbrauch neuer Personenkraftwagen\" entnommen werden, der an allen Verkaufsstellen und bei der Deutschen Automobil Treuhand GmbH unter\\xa0www.dat.de\\xa0unentgeltlich erhältlich ist.',\n",
       " 'CO2-EmissionenWeitere Informationen zum offiziellen Kraftstoffverbrauch und den offiziellen spezifischen CO2-Emissionen neuer Personenkraftwagen können dem \"Leitfaden über den Kraftstoffverbrauch, die CO2-Emissionen und den Stromverbrauch neuer Personenkraftwagen\" entnommen werden, der an allen Verkaufsstellen und bei der Deutschen Automobil Treuhand GmbH unter\\xa0www.dat.de\\xa0unentgeltlich erhältlich ist.',\n",
       " 'Schadstoffklasse',\n",
       " 'Feinstaubplakette',\n",
       " '\\n\\nMarke, Modell\\n',\n",
       " '\\n\\nErstzulassung\\n',\n",
       " '\\n\\nKraftstoff\\n',\n",
       " '\\n\\nLeistung\\n',\n",
       " '\\n\\nKilometerstand\\n',\n",
       " '\\n\\nGetriebe\\n',\n",
       " '\\n\\nKraftstoffverbr.*\\n',\n",
       " '\\n\\nVerkäufer\\n',\n",
       " '\\n\\nAußenfarbe\\n',\n",
       " '\\n\\nAusstattung\\n',\n",
       " '\\n\\nZustand\\n',\n",
       " '\\n\\nRegion\\n',\n",
       " '\\n\\nServiceleistungen\\n',\n",
       " '\\n\\nSpezielle Umbauten\\n',\n",
       " '\\n\\nModellvarianten\\n',\n",
       " '\\n\\nBilder\\n',\n",
       " '\\n\\nFahrzeugbeschreibung\\n']"
      ]
     },
     "execution_count": 59,
     "metadata": {},
     "output_type": "execute_result"
    }
   ],
   "source": [
    "def getAllFeatures(link):\n",
    "    soup = getSoup(link)\n",
    "    zs = soup.findAll('dt')\n",
    "    return [z.text for z in zs]\n",
    "\n",
    "Features = getAllFeatures('https://www.autoscout24.de/angebote/volkswagen-tiguan-1-4-tsi-169-ohne-anzahlung-ahk-benzin-blau-7caef8fe-fcdd-464f-adb4-aa6a65a753e4?recopos=1&ipl=detailpage-engine-itemBased&ipc=recommendation&cldtsrc=inactive-page&isCarousel=false')\n",
    "Features"
   ]
  },
  {
   "cell_type": "code",
   "execution_count": 61,
   "metadata": {
    "scrolled": false
   },
   "outputs": [
    {
     "data": {
      "text/plain": [
       "['Gebraucht',\n",
       " '1',\n",
       " 'Ja',\n",
       " '12 Monate',\n",
       " '',\n",
       " '',\n",
       " 'Volkswagen',\n",
       " 'Tiguan',\n",
       " '233-13740',\n",
       " '2013',\n",
       " 'Blau',\n",
       " 'Metallic',\n",
       " 'Night Blue Metallic',\n",
       " 'Stoff, Schwarz',\n",
       " 'SUV/Geländewagen/Pickup',\n",
       " '4',\n",
       " '5',\n",
       " '0603/ATN',\n",
       " 'Deutsche Ausführung',\n",
       " 'Schaltgetriebe',\n",
       " '1.390 cm³',\n",
       " '1.426 kg',\n",
       " 'Front',\n",
       " 'Super 95',\n",
       " '6,5 l/100 km (komb)\\n8,3 l/100 km (innerorts)\\n5,5 l/100 km (außerorts)',\n",
       " '154 g CO2/km (komb)',\n",
       " 'Euro 5',\n",
       " '4 (Grün)',\n",
       " '\\nVolkswagen Tiguan\\n',\n",
       " '\\n2013\\n',\n",
       " '\\nBenzin\\n',\n",
       " '\\n90 kW / 122 PS\\n',\n",
       " '\\n107.820 km\\n',\n",
       " '\\nSchaltgetriebe\\n',\n",
       " '\\n6.5 l/100 km (komb)\\n',\n",
       " '\\nHändler\\n',\n",
       " '\\nBlau\\n',\n",
       " '\\n34 Ausstattungsmerkmale\\n',\n",
       " 'Tipp:\\nPrüfen Sie das Fahrzeug bei der Besichtigung auf Mängel. Generell gehen wir bei allen Angeboten von einem guten Fahrzeug-Zustand aus.',\n",
       " 'Tipp:\\nRegionale Angebots- und Nachfrageunterschiede können den Preis beeinflussen.',\n",
       " 'Tipp:\\nErkundigen Sie sich beim Verkäufer nach zusätzlichen Services oder Garantien, die unter Umständen einen höheren Preis rechtfertigen.',\n",
       " 'Tipp:\\nPrüfen Sie das Fahrzeug bei der Besichtigung auf spezielle Umbauten, die unter Umständen einen höheren Preis rechtfertigen.',\n",
       " 'Tipp:\\nSpezielle Ausstattungspakete, Modellvarianten und Sportversionen fließen aktuell nicht in die Bewertung ein.',\n",
       " 'Tipp:\\nInseratsbilder werden nicht in die Preisbewertung mit einbezogen, da eine zuverlässige Auswertung nicht möglich ist.',\n",
       " 'Tipp:\\nDie Beschreibung des Fahrzeugs fließt nicht in die Bewertung ein, da eine zuverlässige Auswertung nicht möglich ist.']"
      ]
     },
     "execution_count": 61,
     "metadata": {},
     "output_type": "execute_result"
    }
   ],
   "source": [
    "def getAllValues(link):\n",
    "    soup = getSoup(link)\n",
    "    zs= soup.findAll('dd')\n",
    "    return [z.text[1:-1] for z in zs]\n",
    "\n",
    "links = getAllValues('https://www.autoscout24.de/angebote/volkswagen-tiguan-1-4-tsi-169-ohne-anzahlung-ahk-benzin-blau-7caef8fe-fcdd-464f-adb4-aa6a65a753e4?recopos=1&ipl=detailpage-engine-itemBased&ipc=recommendation&cldtsrc=inactive-page&isCarousel=false')\n",
    "links"
   ]
  },
  {
   "cell_type": "code",
   "execution_count": 65,
   "metadata": {},
   "outputs": [
    {
     "data": {
      "text/plain": [
       "['Gebraucht',\n",
       " '1',\n",
       " 'Ja',\n",
       " '12 Monate',\n",
       " '',\n",
       " '',\n",
       " 'Volkswagen',\n",
       " 'Tiguan',\n",
       " '233-13740',\n",
       " '2013',\n",
       " 'Blau',\n",
       " 'Metallic',\n",
       " 'Night Blue Metallic',\n",
       " 'Stoff, Schwarz',\n",
       " 'SUV/Geländewagen/Pickup',\n",
       " '4',\n",
       " '5',\n",
       " '0603/ATN',\n",
       " 'Deutsche Ausführung',\n",
       " 'Schaltgetriebe',\n",
       " '1.390 cm³',\n",
       " '1.426 kg',\n",
       " 'Front',\n",
       " 'Super 95',\n",
       " '6,5 l/100 km (komb)\\n8,3 l/100 km (innerorts)\\n5,5 l/100 km (außerorts)',\n",
       " '154 g CO2/km (komb)',\n",
       " 'Euro 5',\n",
       " '4 (Grün)',\n",
       " '\\nVolkswagen Tiguan\\n',\n",
       " '\\n2013\\n',\n",
       " '\\nBenzin\\n',\n",
       " '\\n90 kW / 122 PS\\n',\n",
       " '\\n107.820 km\\n',\n",
       " '\\nSchaltgetriebe\\n',\n",
       " '\\n6.5 l/100 km (komb)\\n',\n",
       " '\\nHändler\\n',\n",
       " '\\nBlau\\n',\n",
       " '\\n34 Ausstattungsmerkmale\\n',\n",
       " 'Tipp:\\nPrüfen Sie das Fahrzeug bei der Besichtigung auf Mängel. Generell gehen wir bei allen Angeboten von einem guten Fahrzeug-Zustand aus.',\n",
       " 'Tipp:\\nRegionale Angebots- und Nachfrageunterschiede können den Preis beeinflussen.',\n",
       " 'Tipp:\\nErkundigen Sie sich beim Verkäufer nach zusätzlichen Services oder Garantien, die unter Umständen einen höheren Preis rechtfertigen.',\n",
       " 'Tipp:\\nPrüfen Sie das Fahrzeug bei der Besichtigung auf spezielle Umbauten, die unter Umständen einen höheren Preis rechtfertigen.',\n",
       " 'Tipp:\\nSpezielle Ausstattungspakete, Modellvarianten und Sportversionen fließen aktuell nicht in die Bewertung ein.',\n",
       " 'Tipp:\\nInseratsbilder werden nicht in die Preisbewertung mit einbezogen, da eine zuverlässige Auswertung nicht möglich ist.',\n",
       " 'Tipp:\\nDie Beschreibung des Fahrzeugs fließt nicht in die Bewertung ein, da eine zuverlässige Auswertung nicht möglich ist.']"
      ]
     },
     "execution_count": 65,
     "metadata": {},
     "output_type": "execute_result"
    }
   ],
   "source": [
    "def getAllValues(link):\n",
    "    soup = getSoup(link)\n",
    "    ys= soup.findAll('dd')\n",
    "    return [y.text[1:-1] for y in ys]\n",
    "\n",
    "Values = getAllValues('https://www.autoscout24.de/angebote/volkswagen-tiguan-1-4-tsi-169-ohne-anzahlung-ahk-benzin-blau-7caef8fe-fcdd-464f-adb4-aa6a65a753e4?recopos=1&ipl=detailpage-engine-itemBased&ipc=recommendation&cldtsrc=inactive-page&isCarousel=false')\n",
    "Values"
   ]
  },
  {
   "cell_type": "code",
   "execution_count": 66,
   "metadata": {},
   "outputs": [
    {
     "data": {
      "text/plain": [
       "[{'Zustand': 'Gebraucht',\n",
       "  'Fahrzeughalter': '1',\n",
       "  'HU/AU neu': 'Ja',\n",
       "  'Garantie': '12 Monate',\n",
       "  'Scheckheftgepflegt': '',\n",
       "  'Nichtraucherfahrzeug': '',\n",
       "  'Marke': 'Volkswagen',\n",
       "  'Modell': 'Tiguan',\n",
       "  'Angebotsnummer': '233-13740',\n",
       "  'Erstzulassung': '2013',\n",
       "  'Außenfarbe': 'Blau',\n",
       "  'Lackierung': 'Metallic',\n",
       "  'Farbe laut Hersteller': 'Night Blue Metallic',\n",
       "  'Innenausstattung': 'Stoff, Schwarz',\n",
       "  'Karosserieform': 'SUV/Geländewagen/Pickup',\n",
       "  'Anzahl Türen': '4',\n",
       "  'Sitzplätze': '5',\n",
       "  'Schlüsselnummer': '0603/ATN',\n",
       "  'Länderversion': 'Deutsche Ausführung',\n",
       "  'Getriebeart': 'Schaltgetriebe',\n",
       "  'Hubraum': '1.390 cm³',\n",
       "  'Leergewicht': '1.426 kg',\n",
       "  'Antriebsart': 'Front',\n",
       "  'Kraftstoff': 'Super 95',\n",
       "  'KraftstoffverbrauchWeitere Informationen zum offiziellen Kraftstoffverbrauch und den offiziellen spezifischen CO2-Emissionen neuer Personenkraftwagen können dem \"Leitfaden über den Kraftstoffverbrauch, die CO2-Emissionen und den Stromverbrauch neuer Personenkraftwagen\" entnommen werden, der an allen Verkaufsstellen und bei der Deutschen Automobil Treuhand GmbH unter\\xa0www.dat.de\\xa0unentgeltlich erhältlich ist.': '6,5 l/100 km (komb)\\n8,3 l/100 km (innerorts)\\n5,5 l/100 km (außerorts)',\n",
       "  'CO2-EmissionenWeitere Informationen zum offiziellen Kraftstoffverbrauch und den offiziellen spezifischen CO2-Emissionen neuer Personenkraftwagen können dem \"Leitfaden über den Kraftstoffverbrauch, die CO2-Emissionen und den Stromverbrauch neuer Personenkraftwagen\" entnommen werden, der an allen Verkaufsstellen und bei der Deutschen Automobil Treuhand GmbH unter\\xa0www.dat.de\\xa0unentgeltlich erhältlich ist.': '154 g CO2/km (komb)',\n",
       "  'Schadstoffklasse': 'Euro 5',\n",
       "  'Feinstaubplakette': '4 (Grün)',\n",
       "  '\\n\\nMarke, Modell\\n': '\\nVolkswagen Tiguan\\n'}]"
      ]
     },
     "execution_count": 66,
     "metadata": {},
     "output_type": "execute_result"
    }
   ],
   "source": [
    "l = []\n",
    "for x in range(0,1):\n",
    "    d = { Features[0]:Values[0],\n",
    "    Features[1]:Values[1],\n",
    "    Features[2]:Values[2],\n",
    "    Features[3]:Values[3],\n",
    "    Features[4]:Values[4],\n",
    "    Features[5]:Values[5],\n",
    "    Features[6]:Values[6],\n",
    "    Features[7]:Values[7],\n",
    "    Features[8]:Values[8],\n",
    "    Features[9]:Values[9],\n",
    "    Features[10]:Values[10],\n",
    "    Features[11]:Values[11],\n",
    "    Features[12]:Values[12],\n",
    "    Features[13]:Values[13],\n",
    "    Features[14]:Values[14],\n",
    "    Features[15]:Values[15],\n",
    "    Features[16]:Values[16],\n",
    "    Features[17]:Values[17],\n",
    "    Features[18]:Values[18],\n",
    "    Features[19]:Values[19],\n",
    "    Features[20]:Values[20],\n",
    "    Features[21]:Values[21],\n",
    "    Features[22]:Values[22],\n",
    "    Features[23]:Values[23],\n",
    "    Features[24]:Values[24],\n",
    "    Features[25]:Values[25],\n",
    "    Features[26]:Values[26],\n",
    "    Features[27]:Values[27],\n",
    "    Features[28]:Values[28],\n",
    "\n",
    "        }\n",
    "    l.append(d)\n",
    "l"
   ]
  },
  {
   "cell_type": "code",
   "execution_count": 69,
   "metadata": {},
   "outputs": [
    {
     "data": {
      "text/html": [
       "<div>\n",
       "<style scoped>\n",
       "    .dataframe tbody tr th:only-of-type {\n",
       "        vertical-align: middle;\n",
       "    }\n",
       "\n",
       "    .dataframe tbody tr th {\n",
       "        vertical-align: top;\n",
       "    }\n",
       "\n",
       "    .dataframe thead th {\n",
       "        text-align: right;\n",
       "    }\n",
       "</style>\n",
       "<table border=\"1\" class=\"dataframe\">\n",
       "  <thead>\n",
       "    <tr style=\"text-align: right;\">\n",
       "      <th></th>\n",
       "      <th>Zustand</th>\n",
       "      <th>Fahrzeughalter</th>\n",
       "      <th>HU/AU neu</th>\n",
       "      <th>Garantie</th>\n",
       "      <th>Scheckheftgepflegt</th>\n",
       "      <th>Nichtraucherfahrzeug</th>\n",
       "      <th>Marke</th>\n",
       "      <th>Modell</th>\n",
       "      <th>Angebotsnummer</th>\n",
       "      <th>Erstzulassung</th>\n",
       "      <th>...</th>\n",
       "      <th>Getriebeart</th>\n",
       "      <th>Hubraum</th>\n",
       "      <th>Leergewicht</th>\n",
       "      <th>Antriebsart</th>\n",
       "      <th>Kraftstoff</th>\n",
       "      <th>KraftstoffverbrauchWeitere Informationen zum offiziellen Kraftstoffverbrauch und den offiziellen spezifischen CO2-Emissionen neuer Personenkraftwagen können dem \"Leitfaden über den Kraftstoffverbrauch, die CO2-Emissionen und den Stromverbrauch neuer Personenkraftwagen\" entnommen werden, der an allen Verkaufsstellen und bei der Deutschen Automobil Treuhand GmbH unter www.dat.de unentgeltlich erhältlich ist.</th>\n",
       "      <th>CO2-EmissionenWeitere Informationen zum offiziellen Kraftstoffverbrauch und den offiziellen spezifischen CO2-Emissionen neuer Personenkraftwagen können dem \"Leitfaden über den Kraftstoffverbrauch, die CO2-Emissionen und den Stromverbrauch neuer Personenkraftwagen\" entnommen werden, der an allen Verkaufsstellen und bei der Deutschen Automobil Treuhand GmbH unter www.dat.de unentgeltlich erhältlich ist.</th>\n",
       "      <th>Schadstoffklasse</th>\n",
       "      <th>Feinstaubplakette</th>\n",
       "      <th>\\n\\nMarke, Modell\\n</th>\n",
       "    </tr>\n",
       "  </thead>\n",
       "  <tbody>\n",
       "    <tr>\n",
       "      <td>0</td>\n",
       "      <td>Gebraucht</td>\n",
       "      <td>1</td>\n",
       "      <td>Ja</td>\n",
       "      <td>12 Monate</td>\n",
       "      <td></td>\n",
       "      <td></td>\n",
       "      <td>Volkswagen</td>\n",
       "      <td>Tiguan</td>\n",
       "      <td>233-13740</td>\n",
       "      <td>2013</td>\n",
       "      <td>...</td>\n",
       "      <td>Schaltgetriebe</td>\n",
       "      <td>1.390 cm³</td>\n",
       "      <td>1.426 kg</td>\n",
       "      <td>Front</td>\n",
       "      <td>Super 95</td>\n",
       "      <td>6,5 l/100 km (komb)\\n8,3 l/100 km (innerorts)\\...</td>\n",
       "      <td>154 g CO2/km (komb)</td>\n",
       "      <td>Euro 5</td>\n",
       "      <td>4 (Grün)</td>\n",
       "      <td>\\nVolkswagen Tiguan\\n</td>\n",
       "    </tr>\n",
       "  </tbody>\n",
       "</table>\n",
       "<p>1 rows × 29 columns</p>\n",
       "</div>"
      ],
      "text/plain": [
       "     Zustand Fahrzeughalter HU/AU neu   Garantie Scheckheftgepflegt  \\\n",
       "0  Gebraucht              1        Ja  12 Monate                      \n",
       "\n",
       "  Nichtraucherfahrzeug       Marke  Modell Angebotsnummer Erstzulassung  ...  \\\n",
       "0                       Volkswagen  Tiguan      233-13740          2013  ...   \n",
       "\n",
       "      Getriebeart    Hubraum Leergewicht Antriebsart Kraftstoff  \\\n",
       "0  Schaltgetriebe  1.390 cm³    1.426 kg       Front   Super 95   \n",
       "\n",
       "  KraftstoffverbrauchWeitere Informationen zum offiziellen Kraftstoffverbrauch und den offiziellen spezifischen CO2-Emissionen neuer Personenkraftwagen können dem \"Leitfaden über den Kraftstoffverbrauch, die CO2-Emissionen und den Stromverbrauch neuer Personenkraftwagen\" entnommen werden, der an allen Verkaufsstellen und bei der Deutschen Automobil Treuhand GmbH unter www.dat.de unentgeltlich erhältlich ist.  \\\n",
       "0  6,5 l/100 km (komb)\\n8,3 l/100 km (innerorts)\\...                                                                                                                                                                                                                                                                                                                                                                          \n",
       "\n",
       "  CO2-EmissionenWeitere Informationen zum offiziellen Kraftstoffverbrauch und den offiziellen spezifischen CO2-Emissionen neuer Personenkraftwagen können dem \"Leitfaden über den Kraftstoffverbrauch, die CO2-Emissionen und den Stromverbrauch neuer Personenkraftwagen\" entnommen werden, der an allen Verkaufsstellen und bei der Deutschen Automobil Treuhand GmbH unter www.dat.de unentgeltlich erhältlich ist.  \\\n",
       "0                                154 g CO2/km (komb)                                                                                                                                                                                                                                                                                                                                                                     \n",
       "\n",
       "  Schadstoffklasse Feinstaubplakette    \\n\\nMarke, Modell\\n  \n",
       "0           Euro 5          4 (Grün)  \\nVolkswagen Tiguan\\n  \n",
       "\n",
       "[1 rows x 29 columns]"
      ]
     },
     "execution_count": 69,
     "metadata": {},
     "output_type": "execute_result"
    }
   ],
   "source": [
    "Tiguan = pd.DataFrame(l)\n",
    "Tiguan"
   ]
  },
  {
   "cell_type": "markdown",
   "metadata": {},
   "source": [
    "Now let's send the DF to SQL :)"
   ]
  },
  {
   "cell_type": "code",
   "execution_count": 70,
   "metadata": {},
   "outputs": [],
   "source": [
    "database = 'secondtestdatabase.db'\n",
    "connection = sql.connect(database)"
   ]
  },
  {
   "cell_type": "code",
   "execution_count": 71,
   "metadata": {},
   "outputs": [],
   "source": [
    "x=Tiguan"
   ]
  },
  {
   "cell_type": "code",
   "execution_count": 72,
   "metadata": {},
   "outputs": [
    {
     "name": "stderr",
     "output_type": "stream",
     "text": [
      "C:\\Users\\Radka\\Anaconda3\\lib\\site-packages\\pandas\\core\\generic.py:2712: UserWarning: The spaces in these column names will not be changed. In pandas versions < 0.14, spaces were converted to underscores.\n",
      "  method=method,\n"
     ]
    }
   ],
   "source": [
    "x.to_sql('mynewname5', connection, if_exists='append')"
   ]
  },
  {
   "cell_type": "markdown",
   "metadata": {},
   "source": [
    "What is in my SQL now? "
   ]
  },
  {
   "cell_type": "code",
   "execution_count": 74,
   "metadata": {},
   "outputs": [],
   "source": [
    "database = 'secondtestdatabase.db'\n",
    "connection = sql.connect(database)"
   ]
  },
  {
   "cell_type": "code",
   "execution_count": 77,
   "metadata": {},
   "outputs": [],
   "source": [
    "df = pd.read_sql_query('''SELECT * from mynewname5''', connection)"
   ]
  },
  {
   "cell_type": "code",
   "execution_count": 78,
   "metadata": {},
   "outputs": [
    {
     "data": {
      "text/html": [
       "<div>\n",
       "<style scoped>\n",
       "    .dataframe tbody tr th:only-of-type {\n",
       "        vertical-align: middle;\n",
       "    }\n",
       "\n",
       "    .dataframe tbody tr th {\n",
       "        vertical-align: top;\n",
       "    }\n",
       "\n",
       "    .dataframe thead th {\n",
       "        text-align: right;\n",
       "    }\n",
       "</style>\n",
       "<table border=\"1\" class=\"dataframe\">\n",
       "  <thead>\n",
       "    <tr style=\"text-align: right;\">\n",
       "      <th></th>\n",
       "      <th>index</th>\n",
       "      <th>Zustand</th>\n",
       "      <th>Fahrzeughalter</th>\n",
       "      <th>HU/AU neu</th>\n",
       "      <th>Garantie</th>\n",
       "      <th>Scheckheftgepflegt</th>\n",
       "      <th>Nichtraucherfahrzeug</th>\n",
       "      <th>Marke</th>\n",
       "      <th>Modell</th>\n",
       "      <th>Angebotsnummer</th>\n",
       "      <th>...</th>\n",
       "      <th>Getriebeart</th>\n",
       "      <th>Hubraum</th>\n",
       "      <th>Leergewicht</th>\n",
       "      <th>Antriebsart</th>\n",
       "      <th>Kraftstoff</th>\n",
       "      <th>KraftstoffverbrauchWeitere Informationen zum offiziellen Kraftstoffverbrauch und den offiziellen spezifischen CO2-Emissionen neuer Personenkraftwagen können dem \"Leitfaden über den Kraftstoffverbrauch, die CO2-Emissionen und den Stromverbrauch neuer Personenkraftwagen\" entnommen werden, der an allen Verkaufsstellen und bei der Deutschen Automobil Treuhand GmbH unter www.dat.de unentgeltlich erhältlich ist.</th>\n",
       "      <th>CO2-EmissionenWeitere Informationen zum offiziellen Kraftstoffverbrauch und den offiziellen spezifischen CO2-Emissionen neuer Personenkraftwagen können dem \"Leitfaden über den Kraftstoffverbrauch, die CO2-Emissionen und den Stromverbrauch neuer Personenkraftwagen\" entnommen werden, der an allen Verkaufsstellen und bei der Deutschen Automobil Treuhand GmbH unter www.dat.de unentgeltlich erhältlich ist.</th>\n",
       "      <th>Schadstoffklasse</th>\n",
       "      <th>Feinstaubplakette</th>\n",
       "      <th>\\n\\nMarke, Modell\\n</th>\n",
       "    </tr>\n",
       "  </thead>\n",
       "  <tbody>\n",
       "    <tr>\n",
       "      <td>0</td>\n",
       "      <td>0</td>\n",
       "      <td>Gebraucht</td>\n",
       "      <td>1</td>\n",
       "      <td>Ja</td>\n",
       "      <td>12 Monate</td>\n",
       "      <td></td>\n",
       "      <td></td>\n",
       "      <td>Volkswagen</td>\n",
       "      <td>Tiguan</td>\n",
       "      <td>233-13740</td>\n",
       "      <td>...</td>\n",
       "      <td>Schaltgetriebe</td>\n",
       "      <td>1.390 cm³</td>\n",
       "      <td>1.426 kg</td>\n",
       "      <td>Front</td>\n",
       "      <td>Super 95</td>\n",
       "      <td>6,5 l/100 km (komb)\\n8,3 l/100 km (innerorts)\\...</td>\n",
       "      <td>154 g CO2/km (komb)</td>\n",
       "      <td>Euro 5</td>\n",
       "      <td>4 (Grün)</td>\n",
       "      <td>\\nVolkswagen Tiguan\\n</td>\n",
       "    </tr>\n",
       "  </tbody>\n",
       "</table>\n",
       "<p>1 rows × 30 columns</p>\n",
       "</div>"
      ],
      "text/plain": [
       "   index    Zustand Fahrzeughalter HU/AU neu   Garantie Scheckheftgepflegt  \\\n",
       "0      0  Gebraucht              1        Ja  12 Monate                      \n",
       "\n",
       "  Nichtraucherfahrzeug       Marke  Modell Angebotsnummer  ...  \\\n",
       "0                       Volkswagen  Tiguan      233-13740  ...   \n",
       "\n",
       "      Getriebeart    Hubraum Leergewicht Antriebsart Kraftstoff  \\\n",
       "0  Schaltgetriebe  1.390 cm³    1.426 kg       Front   Super 95   \n",
       "\n",
       "  KraftstoffverbrauchWeitere Informationen zum offiziellen Kraftstoffverbrauch und den offiziellen spezifischen CO2-Emissionen neuer Personenkraftwagen können dem \"Leitfaden über den Kraftstoffverbrauch, die CO2-Emissionen und den Stromverbrauch neuer Personenkraftwagen\" entnommen werden, der an allen Verkaufsstellen und bei der Deutschen Automobil Treuhand GmbH unter www.dat.de unentgeltlich erhältlich ist.  \\\n",
       "0  6,5 l/100 km (komb)\\n8,3 l/100 km (innerorts)\\...                                                                                                                                                                                                                                                                                                                                                                          \n",
       "\n",
       "  CO2-EmissionenWeitere Informationen zum offiziellen Kraftstoffverbrauch und den offiziellen spezifischen CO2-Emissionen neuer Personenkraftwagen können dem \"Leitfaden über den Kraftstoffverbrauch, die CO2-Emissionen und den Stromverbrauch neuer Personenkraftwagen\" entnommen werden, der an allen Verkaufsstellen und bei der Deutschen Automobil Treuhand GmbH unter www.dat.de unentgeltlich erhältlich ist.  \\\n",
       "0                                154 g CO2/km (komb)                                                                                                                                                                                                                                                                                                                                                                     \n",
       "\n",
       "  Schadstoffklasse Feinstaubplakette    \\n\\nMarke, Modell\\n  \n",
       "0           Euro 5          4 (Grün)  \\nVolkswagen Tiguan\\n  \n",
       "\n",
       "[1 rows x 30 columns]"
      ]
     },
     "execution_count": 78,
     "metadata": {},
     "output_type": "execute_result"
    }
   ],
   "source": [
    "df"
   ]
  },
  {
   "cell_type": "code",
   "execution_count": null,
   "metadata": {},
   "outputs": [],
   "source": []
  },
  {
   "cell_type": "code",
   "execution_count": null,
   "metadata": {},
   "outputs": [],
   "source": []
  },
  {
   "cell_type": "code",
   "execution_count": null,
   "metadata": {},
   "outputs": [],
   "source": []
  },
  {
   "cell_type": "markdown",
   "metadata": {},
   "source": [
    "# The whole process we need"
   ]
  },
  {
   "cell_type": "markdown",
   "metadata": {},
   "source": [
    "So\n",
    "1) scrape links \n",
    "2) save links to the SQL table LINKS\n",
    "3) ask about x number of links and scrape info about those x cars\n",
    "4) save those infos to sql table INFO"
   ]
  },
  {
   "cell_type": "markdown",
   "metadata": {},
   "source": [
    " 1) scrape links "
   ]
  },
  {
   "cell_type": "code",
   "execution_count": null,
   "metadata": {},
   "outputs": [],
   "source": [
    "ROGIER"
   ]
  },
  {
   "cell_type": "code",
   "execution_count": null,
   "metadata": {},
   "outputs": [],
   "source": []
  },
  {
   "cell_type": "code",
   "execution_count": null,
   "metadata": {},
   "outputs": [],
   "source": [
    "Just an example"
   ]
  },
  {
   "cell_type": "code",
   "execution_count": 79,
   "metadata": {},
   "outputs": [],
   "source": [
    "links=['https://www.autoscout24.de/angebote/-30096ae7-eb6d-4fae-a234-72674d4c8c6a?imc=criteo-onsite&iml=detailpage',\n",
    "      'https://www.autoscout24.de/angebote/-8d5e904e-da60-4940-af47-9d40d217abe0?imc=criteo-onsite&iml=detailpage']"
   ]
  },
  {
   "cell_type": "code",
   "execution_count": 80,
   "metadata": {},
   "outputs": [
    {
     "data": {
      "text/plain": [
       "['https://www.autoscout24.de/angebote/-30096ae7-eb6d-4fae-a234-72674d4c8c6a?imc=criteo-onsite&iml=detailpage',\n",
       " 'https://www.autoscout24.de/angebote/-8d5e904e-da60-4940-af47-9d40d217abe0?imc=criteo-onsite&iml=detailpage']"
      ]
     },
     "execution_count": 80,
     "metadata": {},
     "output_type": "execute_result"
    }
   ],
   "source": [
    "links"
   ]
  },
  {
   "cell_type": "markdown",
   "metadata": {},
   "source": [
    "2) save links to the SQL table LINKS"
   ]
  },
  {
   "cell_type": "code",
   "execution_count": 89,
   "metadata": {},
   "outputs": [],
   "source": [
    "database = 'secondtestdatabase.db'\n",
    "connection = sql.connect(database)"
   ]
  },
  {
   "cell_type": "code",
   "execution_count": 91,
   "metadata": {},
   "outputs": [],
   "source": [
    "x=links\n",
    "x = pd.DataFrame(x)"
   ]
  },
  {
   "cell_type": "code",
   "execution_count": 93,
   "metadata": {},
   "outputs": [],
   "source": [
    "x.to_sql('LINKS', connection, if_exists='append')"
   ]
  },
  {
   "cell_type": "code",
   "execution_count": null,
   "metadata": {},
   "outputs": [],
   "source": []
  },
  {
   "cell_type": "markdown",
   "metadata": {},
   "source": [
    "3) ask about x number of links and scrape info about those x cars"
   ]
  },
  {
   "cell_type": "code",
   "execution_count": 94,
   "metadata": {},
   "outputs": [],
   "source": [
    "database = 'secondtestdatabase.db'\n",
    "connection = sql.connect(database)"
   ]
  },
  {
   "cell_type": "code",
   "execution_count": 106,
   "metadata": {},
   "outputs": [],
   "source": [
    "df = pd.read_sql_query('''SELECT * from LINKS''', connection)"
   ]
  },
  {
   "cell_type": "code",
   "execution_count": 107,
   "metadata": {
    "scrolled": true
   },
   "outputs": [
    {
     "data": {
      "text/html": [
       "<div>\n",
       "<style scoped>\n",
       "    .dataframe tbody tr th:only-of-type {\n",
       "        vertical-align: middle;\n",
       "    }\n",
       "\n",
       "    .dataframe tbody tr th {\n",
       "        vertical-align: top;\n",
       "    }\n",
       "\n",
       "    .dataframe thead th {\n",
       "        text-align: right;\n",
       "    }\n",
       "</style>\n",
       "<table border=\"1\" class=\"dataframe\">\n",
       "  <thead>\n",
       "    <tr style=\"text-align: right;\">\n",
       "      <th></th>\n",
       "      <th>index</th>\n",
       "      <th>0</th>\n",
       "    </tr>\n",
       "  </thead>\n",
       "  <tbody>\n",
       "    <tr>\n",
       "      <td>0</td>\n",
       "      <td>0</td>\n",
       "      <td>https://www.autoscout24.de/angebote/-30096ae7-...</td>\n",
       "    </tr>\n",
       "    <tr>\n",
       "      <td>1</td>\n",
       "      <td>1</td>\n",
       "      <td>https://www.autoscout24.de/angebote/-8d5e904e-...</td>\n",
       "    </tr>\n",
       "  </tbody>\n",
       "</table>\n",
       "</div>"
      ],
      "text/plain": [
       "   index                                                  0\n",
       "0      0  https://www.autoscout24.de/angebote/-30096ae7-...\n",
       "1      1  https://www.autoscout24.de/angebote/-8d5e904e-..."
      ]
     },
     "execution_count": 107,
     "metadata": {},
     "output_type": "execute_result"
    }
   ],
   "source": [
    "df"
   ]
  },
  {
   "cell_type": "code",
   "execution_count": 108,
   "metadata": {},
   "outputs": [],
   "source": [
    "del df['index']"
   ]
  },
  {
   "cell_type": "code",
   "execution_count": 112,
   "metadata": {},
   "outputs": [
    {
     "data": {
      "text/html": [
       "<div>\n",
       "<style scoped>\n",
       "    .dataframe tbody tr th:only-of-type {\n",
       "        vertical-align: middle;\n",
       "    }\n",
       "\n",
       "    .dataframe tbody tr th {\n",
       "        vertical-align: top;\n",
       "    }\n",
       "\n",
       "    .dataframe thead th {\n",
       "        text-align: right;\n",
       "    }\n",
       "</style>\n",
       "<table border=\"1\" class=\"dataframe\">\n",
       "  <thead>\n",
       "    <tr style=\"text-align: right;\">\n",
       "      <th></th>\n",
       "      <th>0</th>\n",
       "    </tr>\n",
       "  </thead>\n",
       "  <tbody>\n",
       "    <tr>\n",
       "      <td>0</td>\n",
       "      <td>https://www.autoscout24.de/angebote/-30096ae7-...</td>\n",
       "    </tr>\n",
       "    <tr>\n",
       "      <td>1</td>\n",
       "      <td>https://www.autoscout24.de/angebote/-8d5e904e-...</td>\n",
       "    </tr>\n",
       "  </tbody>\n",
       "</table>\n",
       "</div>"
      ],
      "text/plain": [
       "                                                   0\n",
       "0  https://www.autoscout24.de/angebote/-30096ae7-...\n",
       "1  https://www.autoscout24.de/angebote/-8d5e904e-..."
      ]
     },
     "execution_count": 112,
     "metadata": {},
     "output_type": "execute_result"
    }
   ],
   "source": [
    "df"
   ]
  },
  {
   "cell_type": "markdown",
   "metadata": {},
   "source": [
    "The question is how to delete ALL indexes!"
   ]
  },
  {
   "cell_type": "code",
   "execution_count": 122,
   "metadata": {},
   "outputs": [
    {
     "ename": "AttributeError",
     "evalue": "'Series' object has no attribute 'text'",
     "output_type": "error",
     "traceback": [
      "\u001b[1;31m---------------------------------------------------------------------------\u001b[0m",
      "\u001b[1;31mAttributeError\u001b[0m                            Traceback (most recent call last)",
      "\u001b[1;32m<ipython-input-122-2fb57da2ff6b>\u001b[0m in \u001b[0;36m<module>\u001b[1;34m\u001b[0m\n\u001b[1;32m----> 1\u001b[1;33m \u001b[0mdf\u001b[0m\u001b[1;33m.\u001b[0m\u001b[0miloc\u001b[0m\u001b[1;33m[\u001b[0m\u001b[1;36m1\u001b[0m\u001b[1;33m,\u001b[0m\u001b[1;33m:\u001b[0m\u001b[1;33m]\u001b[0m\u001b[1;33m.\u001b[0m\u001b[0mtext\u001b[0m\u001b[1;33m\u001b[0m\u001b[1;33m\u001b[0m\u001b[0m\n\u001b[0m",
      "\u001b[1;32m~\\Anaconda3\\lib\\site-packages\\pandas\\core\\generic.py\u001b[0m in \u001b[0;36m__getattr__\u001b[1;34m(self, name)\u001b[0m\n\u001b[0;32m   5177\u001b[0m             \u001b[1;32mif\u001b[0m \u001b[0mself\u001b[0m\u001b[1;33m.\u001b[0m\u001b[0m_info_axis\u001b[0m\u001b[1;33m.\u001b[0m\u001b[0m_can_hold_identifiers_and_holds_name\u001b[0m\u001b[1;33m(\u001b[0m\u001b[0mname\u001b[0m\u001b[1;33m)\u001b[0m\u001b[1;33m:\u001b[0m\u001b[1;33m\u001b[0m\u001b[1;33m\u001b[0m\u001b[0m\n\u001b[0;32m   5178\u001b[0m                 \u001b[1;32mreturn\u001b[0m \u001b[0mself\u001b[0m\u001b[1;33m[\u001b[0m\u001b[0mname\u001b[0m\u001b[1;33m]\u001b[0m\u001b[1;33m\u001b[0m\u001b[1;33m\u001b[0m\u001b[0m\n\u001b[1;32m-> 5179\u001b[1;33m             \u001b[1;32mreturn\u001b[0m \u001b[0mobject\u001b[0m\u001b[1;33m.\u001b[0m\u001b[0m__getattribute__\u001b[0m\u001b[1;33m(\u001b[0m\u001b[0mself\u001b[0m\u001b[1;33m,\u001b[0m \u001b[0mname\u001b[0m\u001b[1;33m)\u001b[0m\u001b[1;33m\u001b[0m\u001b[1;33m\u001b[0m\u001b[0m\n\u001b[0m\u001b[0;32m   5180\u001b[0m \u001b[1;33m\u001b[0m\u001b[0m\n\u001b[0;32m   5181\u001b[0m     \u001b[1;32mdef\u001b[0m \u001b[0m__setattr__\u001b[0m\u001b[1;33m(\u001b[0m\u001b[0mself\u001b[0m\u001b[1;33m,\u001b[0m \u001b[0mname\u001b[0m\u001b[1;33m,\u001b[0m \u001b[0mvalue\u001b[0m\u001b[1;33m)\u001b[0m\u001b[1;33m:\u001b[0m\u001b[1;33m\u001b[0m\u001b[1;33m\u001b[0m\u001b[0m\n",
      "\u001b[1;31mAttributeError\u001b[0m: 'Series' object has no attribute 'text'"
     ]
    }
   ],
   "source": [
    "df.iloc[1,:]"
   ]
  },
  {
   "cell_type": "code",
   "execution_count": null,
   "metadata": {},
   "outputs": [],
   "source": []
  },
  {
   "cell_type": "code",
   "execution_count": null,
   "metadata": {},
   "outputs": [],
   "source": []
  },
  {
   "cell_type": "code",
   "execution_count": null,
   "metadata": {},
   "outputs": [],
   "source": []
  }
 ],
 "metadata": {
  "kernelspec": {
   "display_name": "Python 3",
   "language": "python",
   "name": "python3"
  },
  "language_info": {
   "codemirror_mode": {
    "name": "ipython",
    "version": 3
   },
   "file_extension": ".py",
   "mimetype": "text/x-python",
   "name": "python",
   "nbconvert_exporter": "python",
   "pygments_lexer": "ipython3",
   "version": "3.7.4"
  }
 },
 "nbformat": 4,
 "nbformat_minor": 2
}
